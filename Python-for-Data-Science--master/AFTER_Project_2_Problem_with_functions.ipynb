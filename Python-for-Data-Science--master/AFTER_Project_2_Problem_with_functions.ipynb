{
  "nbformat": 4,
  "nbformat_minor": 0,
  "metadata": {
    "colab": {
      "name": "AFTER_Project_2_Problem_with_functions.ipynb",
      "provenance": []
    },
    "kernelspec": {
      "name": "python3",
      "display_name": "Python 3"
    },
    "language_info": {
      "name": "python"
    }
  },
  "cells": [
    {
      "cell_type": "markdown",
      "metadata": {
        "id": "h2w7voCv6PW6"
      },
      "source": [
        "# **Project in Python - Movie Website using Functions**\n",
        "###[Should be done on jupyter notebook locally download Anaconda and Jupyter Notebooks]\n",
        "So lets Assume you want to make a movies website, a very basic one with a lot of posters and their respective names on the main page and when you click on any one of them the trailer associated with that particular movie should start playing.\n",
        "\n",
        "Lets make a program that will do so."
      ]
    },
    {
      "cell_type": "markdown",
      "metadata": {
        "id": "Flgrxelt635e"
      },
      "source": [
        "## **If you were to make this program what steps will you take to write this program pls write in the live CHAT?** \n",
        "[ don't worry about the code, in plane english just identify the steps that you will take to make this work eg - step1 do this , step2 do that ]"
      ]
    },
    {
      "cell_type": "markdown",
      "metadata": {
        "id": "Pc-zsKlk69rp"
      },
      "source": [
        "# **One possible ANSWER**"
      ]
    },
    {
      "cell_type": "markdown",
      "metadata": {
        "id": "YbQO5q8A7Awb"
      },
      "source": [
        "- we will crete 2 functions one to show the trailer of the movie\n",
        "- and an other to show the poster and the name of the movie."
      ]
    },
    {
      "cell_type": "markdown",
      "metadata": {
        "id": "BG17ptnz7TUp"
      },
      "source": [
        "## **CODE:**"
      ]
    },
    {
      "cell_type": "markdown",
      "metadata": {
        "id": "wh8ifGma7WGc"
      },
      "source": [
        "Lets start with writing the code for this project. First lets declare the function and lets continue from there step by step."
      ]
    },
    {
      "cell_type": "code",
      "metadata": {
        "id": "DKkhb-4r0746"
      },
      "source": [
        "def show_trailer():\n",
        "  # Open Browser and play trailer\n",
        "\n",
        "def show_info():\n",
        "  # Print movie information"
      ],
      "execution_count": null,
      "outputs": []
    },
    {
      "cell_type": "markdown",
      "metadata": {
        "id": "kBa23TSL7_J-"
      },
      "source": [
        "So now imagine we want to run this program and we want to play a movies trailer. Well but which movies trailer, so in order to make that work we will need to supply in the arguments to the function so that we can tell the program which movie as well as what trailer we need to the played.\n",
        "\n",
        "So lets feed in the arguments that is needed."
      ]
    },
    {
      "cell_type": "code",
      "metadata": {
        "id": "WGOgW3Dk9Ghr"
      },
      "source": [
        "def show_trailer(title, youtube_url):\n",
        "  # Open Browser and play trailer\n",
        "\n",
        "def show_info():\n",
        "  # Print movie information"
      ],
      "execution_count": null,
      "outputs": []
    },
    {
      "cell_type": "markdown",
      "metadata": {
        "id": "kpfK_C5A9MKE"
      },
      "source": [
        "now lets try to do the same thing with show_info. again as we dont know which movies info, we will need to supply in the function with some arguments."
      ]
    },
    {
      "cell_type": "code",
      "metadata": {
        "id": "19EhYlDZ9ZEm"
      },
      "source": [
        "def show_trailer(title, youtube_url):\n",
        "  # Open Browser and play trailer\n",
        "\n",
        "def show_info(title, storyline, release_date, rating, youtube_url, director, box_office):\n",
        "  # Print movie information"
      ],
      "execution_count": null,
      "outputs": []
    },
    {
      "cell_type": "markdown",
      "metadata": {
        "id": "eCQPga6C9nXZ"
      },
      "source": [
        "Now as it is evident that even with such a little info the fuction `show_info()` has already become too convoluted.\n",
        "\n",
        "\n",
        "What we need to do is to create a template for a movie and record all the data that needs to go into that template. Data like title and storyline as well as functions like `show_trailer()` and `show_info()`.\n",
        "\n",
        "And then simply say that Avengers is a movie and similarly iron man is a movie. and then have the ability to say show me Iron Man trailer or show me details of Avengers, with no arguments necessary. Now this is someting that we are going to study next under OOPS ie. classes etc.\n",
        "\n",
        "\n",
        "But what if we still want to do it using only functions is to take a template that we have defined and make multiple copies of it.\n",
        "\n",
        "so we will have to make:\n",
        "\n",
        "1> avengers.py\n",
        "\n",
        "```\n",
        "title = \"avenger\"\n",
        "youtube_url = \"www.youtube.com\"\n",
        "storyline = \"A band of heros come together against all odds to save the earth\"\n",
        "rating = \"10/10\"\n",
        "\n",
        "\n",
        "def show_trailer():\n",
        "  # Open Browser and play trailer\n",
        "\n",
        "def show_info():\n",
        "  # Print movie information\n",
        "```\n",
        "\n",
        "- after we have done this for each and every movie we will can then call the functions to play their trailer or show their info.\n",
        "\n",
        "- what if we want to rename our functions or add more data for each movie we will have to edit each and every python files that are present for each movie. This is not a smart work.\n",
        "\n",
        "> so at the end of the day what we need is a way to make copies of a template without making multiple files. We can just create a template and just say that Avengers is a type of that template. And this new template is what we call as a class. We will be learning more about classes in the next module."
      ]
    }
  ]
}