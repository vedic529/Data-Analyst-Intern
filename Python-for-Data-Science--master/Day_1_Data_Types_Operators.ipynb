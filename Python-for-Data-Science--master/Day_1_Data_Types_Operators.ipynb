{
  "nbformat": 4,
  "nbformat_minor": 0,
  "metadata": {
    "colab": {
      "name": "Data_Types_Operators.ipynb",
      "provenance": [],
      "collapsed_sections": []
    },
    "kernelspec": {
      "name": "python3",
      "display_name": "Python 3"
    }
  },
  "cells": [
    {
      "cell_type": "markdown",
      "metadata": {
        "id": "WdDeRs8nwsse",
        "colab_type": "text"
      },
      "source": [
        "<b><h1>Data Types and Operators</h1></b>\n",
        "<h4>Welcome to this lesson on Data Types and Operators! You'll learn about:\n",
        "</h4>\n",
        "\n",
        "* **Data Types:** Integers, Floats, Booleans, \n",
        "Strings, Lists, Tuples, Sets, Dictionaries\n",
        "\n",
        "* **Operators:** Arithmetic, Assignment, Comparison, Logical, Membership, Identity\n",
        "\n",
        "* Built-In Functions, Compound Data Structures, Type Conversion\n",
        "\n",
        "* Whitespace and Style Guidelines"
      ]
    },
    {
      "cell_type": "markdown",
      "metadata": {
        "id": "PR-M6YwHxkoW",
        "colab_type": "text"
      },
      "source": [
        "<br><br>\n",
        "\n",
        "<h2><b>1. Print() function in python:</b></h2>\n",
        "\n",
        "You will be seeing this print function very frequently in python programming. It helps us to see what exactly is happening in our code.\n",
        "\n",
        "Try to run the next lines of code and see what happens next:"
      ]
    },
    {
      "cell_type": "code",
      "metadata": {
        "id": "x_R9bFHvvu1f",
        "colab_type": "code",
        "colab": {}
      },
      "source": [
        "2+7\n",
        "2*7"
      ],
      "execution_count": null,
      "outputs": []
    },
    {
      "cell_type": "markdown",
      "metadata": {
        "id": "_nKLdWFIyZt-",
        "colab_type": "text"
      },
      "source": [
        "* You will see that even though you had written 2 lines of code only the last line of code gets seen in the output area.\n",
        "\n",
        "Now this happens because you haven't told python what to alctually do with it.\n",
        "\n",
        "This is where *print()* comes in. *print()* in python is a useful builtin function that we can use to display input value as text in the output. "
      ]
    },
    {
      "cell_type": "code",
      "metadata": {
        "id": "p2xPUnXMyYA7",
        "colab_type": "code",
        "colab": {}
      },
      "source": [
        "print(2+7)\n",
        "print(2*7)"
      ],
      "execution_count": null,
      "outputs": []
    },
    {
      "cell_type": "code",
      "metadata": {
        "id": "ZoMyiceiJTAp",
        "colab_type": "code",
        "colab": {}
      },
      "source": [
        "print('Hello World!!!!')"
      ],
      "execution_count": null,
      "outputs": []
    },
    {
      "cell_type": "markdown",
      "metadata": {
        "id": "hHx4ul-t1hJu",
        "colab_type": "text"
      },
      "source": [
        "<br><br>\n",
        "\n",
        "## **2. Arithmetic Operators**\n",
        "\n",
        "An arithmetic operator is a mathematical function that takes 2 operands and performs a calculation on them. Lets take the previous example, we multiplied 2 and 7 here 2 and 7 are the operands and this asterisks is the arithmetic operator for multiplication. Python has several arithmetic operators most of which follow the usual rules of mathematics. Lets look at them now.\n",
        "\n",
        "* <b>+</b> Addition\n",
        "* <b>-</b> Subtraction\n",
        "* <b>*</b> Multiplication\n",
        "* <b>/</b> Division\n",
        "* <b>%</b> Mod (the remainder after dividing)\n",
        "* <b>**</b> Exponentiation (note that ^ does not do this operation, as you might have seen in other languages)\n",
        "* <b>//</b> Divides and rounds down to the nearest integer\n",
        "\n",
        "[ Now sometime people might confuse this (^)Caret symbol for Exponentiation as you might have seen it in other languages but in python this symbol is used to do bitwise **XOR operation**. As learning bitwise operation is not necessary for this course we will not be covering it but you can surely check out the link in the resources below to [learn more.](https://wiki.python.org/moin/BitwiseOperators) ]\n",
        "\n",
        "###**Task:**\n",
        "**Now perform all the arithematic operations on the numbers 7 and 2.**"
      ]
    },
    {
      "cell_type": "code",
      "metadata": {
        "id": "2NAGm8p4yjmu",
        "colab_type": "code",
        "colab": {}
      },
      "source": [
        "# While showing the output use print()\n",
        "\n",
        "# add 7 and 2 below\n",
        "\n",
        "# substract 2 from 7 below\n",
        "\n",
        "# multiply 7 and 2 below\n",
        "\n",
        "# divide 7 by 2 below\n",
        "\n",
        "# remainder after we divide 7 by 2 below\n",
        "\n",
        "# 7 raise to the power 2 below\n",
        "\n",
        "# divide 7 by 2 nd round it to the nearest integer\n"
      ],
      "execution_count": null,
      "outputs": []
    },
    {
      "cell_type": "markdown",
      "metadata": {
        "id": "SNltdCZw0oB5",
        "colab_type": "text"
      },
      "source": [
        "##### Expected output:<br>\n",
        "9<br>\n",
        "5<br>\n",
        "14<br>\n",
        "3.5<br>\n",
        "1<br>\n",
        "49<br>\n",
        "3"
      ]
    },
    {
      "cell_type": "markdown",
      "metadata": {
        "id": "U7a4p_mvxRk4",
        "colab_type": "text"
      },
      "source": [
        "<br><br>\n",
        "\n",
        "## **3. Order of Operations:**\n",
        "\n",
        "Now Arithmetic operators in python follow the **BEDMAS** order of operations. <br>\n",
        "Look at this mathematical equation (2+3*5) what do you think will be the answer 25 or 17. The answer is 17 because in maths we follow a convention called as the order of operations BEDMAS ie. \n",
        "* Brackets\n",
        "* Exponents\n",
        "* Division and Multiplication (left to right)\n",
        "* Addition and Substraction (left to right)\n",
        "\n",
        "Preference given to the operator that comes first in BEDMAS.\n"
      ]
    },
    {
      "cell_type": "markdown",
      "metadata": {
        "id": "I28162IMzAj7",
        "colab_type": "text"
      },
      "source": [
        "**<br><h3>Question:</h3>\n",
        "In this quiz you're going to do some calculations for your \n",
        "bills. Your net expenditure for the past 5 months has been \n",
        "1200, 2000, 800, 1500 and 1700. What is your average monthly\n",
        "expenditure.**"
      ]
    },
    {
      "cell_type": "code",
      "metadata": {
        "id": "UJV4fx80ysCU",
        "colab_type": "code",
        "colab": {}
      },
      "source": [
        "# write your code here\n"
      ],
      "execution_count": null,
      "outputs": []
    },
    {
      "cell_type": "markdown",
      "metadata": {
        "id": "-jsUpF3MzgeZ",
        "colab_type": "text"
      },
      "source": [
        "##### Expected output:<br>1440.0"
      ]
    },
    {
      "cell_type": "markdown",
      "metadata": {
        "id": "_AYZ8efT1uq3",
        "colab_type": "text"
      },
      "source": [
        "<br><h3>Question:</h3>\n",
        "In this quiz you're going to do some calculations for a mason. Two rooms in a house needs to be filled. One room is 4 ft wide by 11 ft long, the other is 5 ft wide by 9 ft long. Tiles come in packages of 7 and each tile is 1ftx1ft in size<br><br>\n",
        "1) How many tiles are needed?<br>\n",
        "2) You buy 17 packages each containing 6 tiles each. How many tiles will be left over?"
      ]
    },
    {
      "cell_type": "code",
      "metadata": {
        "id": "QqCobpMb0Teg",
        "colab_type": "code",
        "colab": {}
      },
      "source": [
        "# write the code that calculates how many tiles are needed down below.\n",
        "\n",
        "# write the code that calculates how many tiles will be left over.\n"
      ],
      "execution_count": null,
      "outputs": []
    },
    {
      "cell_type": "markdown",
      "metadata": {
        "id": "EgDQ7vYB6sTn",
        "colab_type": "text"
      },
      "source": [
        "##### Expected output:<br>89<br>13"
      ]
    },
    {
      "cell_type": "markdown",
      "metadata": {
        "id": "uVi1mZvCCuSV",
        "colab_type": "text"
      },
      "source": [
        "<br><br>\n",
        "\n",
        "## **4. Variables:**<br>\n",
        "Understanding variables is very important in any programming language they are used all the time in python. Using variables in place of direct numbers have many advantages. Variables are used to store information to be referenced and manipulated in a computer program.\n",
        "\n",
        "Creating a new variable in python is very simple, lets create one together, here in this example below the variable name is *month*, the equal sign is the assignment operator and the value of the variable is 12."
      ]
    },
    {
      "cell_type": "code",
      "metadata": {
        "id": "kIeQxFP67CNX",
        "colab_type": "code",
        "colab": {}
      },
      "source": [
        "month=12\n",
        "print(month)"
      ],
      "execution_count": null,
      "outputs": []
    },
    {
      "cell_type": "markdown",
      "metadata": {
        "id": "hfgtXMqGDI2l",
        "colab_type": "text"
      },
      "source": [
        "Now its your turn create a variable named *rent* with its value being 1700"
      ]
    },
    {
      "cell_type": "code",
      "metadata": {
        "id": "slBwG5njDHik",
        "colab_type": "code",
        "colab": {}
      },
      "source": [
        "# create and print the varibale rent down below"
      ],
      "execution_count": null,
      "outputs": []
    },
    {
      "cell_type": "markdown",
      "metadata": {
        "id": "dCgFMQt8Dc6a",
        "colab_type": "text"
      },
      "source": [
        "##### Expected output:<br>1700"
      ]
    },
    {
      "cell_type": "markdown",
      "metadata": {
        "id": "ESJS8yE9J0zB",
        "colab_type": "text"
      },
      "source": [
        "In any case, whatever term is on the left side, is now a name for whatever value is on the right side. Once a value has been assigned to a variable name, you can access the value from the variable name.\n",
        "\n",
        "For example if we run this code we will get 3 as the output here as in the first line we assigned 3 to *a* and in the second line we assigned *a* to *b* so when we print *b* we get 3 as the output."
      ]
    },
    {
      "cell_type": "code",
      "metadata": {
        "id": "0Kg1PjaUDaLl",
        "colab_type": "code",
        "colab": {}
      },
      "source": [
        "a=3\n",
        "b=a\n",
        "print(b)"
      ],
      "execution_count": null,
      "outputs": []
    },
    {
      "cell_type": "markdown",
      "metadata": {
        "id": "icTPtDSAKjEr",
        "colab_type": "text"
      },
      "source": [
        "If we don't declare the variable and try to print the output then we will get the following error "
      ]
    },
    {
      "cell_type": "code",
      "metadata": {
        "id": "P_KmqiPBJ5_Z",
        "colab_type": "code",
        "colab": {}
      },
      "source": [
        "print(x)"
      ],
      "execution_count": null,
      "outputs": []
    },
    {
      "cell_type": "markdown",
      "metadata": {
        "id": "PUE_n529K-Gp",
        "colab_type": "text"
      },
      "source": [
        "<br><br>\n",
        "\n",
        "## **5. Multiple Assignment Operator:**\n",
        "\n",
        "Suppose you are making a program where in you enter the dimensions of the tank and it will give the volume of the tank as the output. So you can write code as:"
      ]
    },
    {
      "cell_type": "code",
      "metadata": {
        "id": "gZHy4uODKsQX",
        "colab_type": "code",
        "colab": {}
      },
      "source": [
        "height = 3\n",
        "length = 6\n",
        "width = 2\n",
        "volume = height * length * width\n",
        "print(volume)"
      ],
      "execution_count": null,
      "outputs": []
    },
    {
      "cell_type": "markdown",
      "metadata": {
        "id": "PdSLF0z5N0Bq",
        "colab_type": "text"
      },
      "source": [
        "Now python has a very useful way to assign multiple variables together in a single line using multiple assignment like this:"
      ]
    },
    {
      "cell_type": "code",
      "metadata": {
        "id": "cGr5tmszNwUe",
        "colab_type": "code",
        "colab": {}
      },
      "source": [
        "# this will now assign 3 to height, 6 to length and 2 to width just as before.\n",
        "height , length , width = 3 , 6 , 2\n",
        "volume = height * length * width\n",
        "print(volume)"
      ],
      "execution_count": null,
      "outputs": []
    },
    {
      "cell_type": "markdown",
      "metadata": {
        "id": "hZdrLa63Ql8Z",
        "colab_type": "text"
      },
      "source": [
        "ou can use this when you are assigning closely related variables such as height width length or coordinates such as x, y , z of an object.\n",
        "\n",
        "<br><h3>Question:</h3>\n",
        "Find the length of the vector with its start coordinates as the origin and the end coordinates as (4,5,6).\n",
        "\n",
        "> *length = squareroot(x^2 + y^2 + z^2)*"
      ]
    },
    {
      "cell_type": "code",
      "metadata": {
        "id": "jQMAaZT1O0F3",
        "colab_type": "code",
        "colab": {}
      },
      "source": [
        "# write your code here"
      ],
      "execution_count": null,
      "outputs": []
    },
    {
      "cell_type": "markdown",
      "metadata": {
        "id": "SuOghUR5SbVg",
        "colab_type": "text"
      },
      "source": [
        "##### Expected output:<br>8.774964387392123"
      ]
    },
    {
      "cell_type": "markdown",
      "metadata": {
        "id": "WbLxkJozSF5g",
        "colab_type": "text"
      },
      "source": [
        "<br><br>\n",
        "\n",
        "## **6. Variable Naming Conventions:**\n",
        "\n",
        "There are some rules we need to follow while giving a name for a Python variable.\n",
        "\n",
        "- **Rule-1**: You should start variable name with an alphabet or **underscore(_)** character.\n",
        "- **Rule-2:** A variable name can only contain **A-Z,a-z,0-9** and **underscore(_)**.\n",
        "- **Rule-3:** You cannot start the variable name with a **number**.\n",
        "- **Rule-4:** You cannot use special characters with the variable name such as such as **$,%,#,&,@.-,^** etc.\n",
        "- **Rule-5**: Variable names are **case sensitive**. For example str and Str are two different variables.\n",
        "- **Rule-6:** Do not use reserve keyword as a variable name for example keywords like **class, for, def, del, is, else,** **try, from,** etc. more examples are given below and as we go through the course we will come across many more. Creating names that are descriptive of the values often will help you avoid using any of these words."
      ]
    },
    {
      "cell_type": "code",
      "metadata": {
        "id": "KtIoAjAKQ0Jh",
        "colab_type": "code",
        "colab": {}
      },
      "source": [
        "#Allowed variable names\n",
        "\n",
        "x=2\n",
        "y=\"Hello\"\n",
        "mypython=\"PythonGuides\"\n",
        "my_python=\"PythonGuides\"\n",
        "_my_python=\"PythonGuides\"\n",
        "_mypython=\"PythonGuides\"\n",
        "MYPYTHON=\"PythonGuides\"\n",
        "myPython=\"PythonGuides\"\n",
        "myPython7=\"PythonGuides\""
      ],
      "execution_count": null,
      "outputs": []
    },
    {
      "cell_type": "code",
      "metadata": {
        "id": "HswApcdn-GTJ",
        "colab_type": "code",
        "colab": {}
      },
      "source": [
        "#Variable name not Allowed\n",
        "\n",
        "7mypython=\"PythonGuides\"\n",
        "-mypython=\"PythonGuides\"\n",
        "myPy@thon=\"PythonGuides\"\n",
        "my Python=\"PythonGuides\"\n",
        "for=\"PythonGuides\"\n",
        "\n",
        "#It shows invalid syntax. \n",
        "#It will execute one by one and will show the error."
      ],
      "execution_count": null,
      "outputs": []
    },
    {
      "cell_type": "markdown",
      "metadata": {
        "id": "zoaFd7Jw-gVJ",
        "colab_type": "text"
      },
      "source": [
        "Also there are some naming convention that needs to be followed like:\n",
        "\n",
        "* try to keep the name of the variables descriptive short but descriptive.    **for example:** when taking inputs for the height of a tree of a box the appropriate  variable name will be just *height* not *x* not *h* not *height_of_the_tree*.\n",
        "\n",
        "* Also the pythonic way to name variables is to use all lowercase letters and underscores to separate words."
      ]
    },
    {
      "cell_type": "code",
      "metadata": {
        "id": "R_5NxrWx-L2E",
        "colab_type": "code",
        "colab": {}
      },
      "source": [
        "# pythonic way\n",
        "\n",
        "my_height = 58\n",
        "my_lat = 40\n",
        "my_long = 105"
      ],
      "execution_count": null,
      "outputs": []
    },
    {
      "cell_type": "code",
      "metadata": {
        "id": "bufefdio-5N5",
        "colab_type": "code",
        "colab": {}
      },
      "source": [
        "# not pythonic way\n",
        "my height = 58 # wont work\n",
        "MYLONG = 40    # will work still avoid using it\n",
        "MyLat = 105    # will work still avoid using it"
      ],
      "execution_count": null,
      "outputs": []
    },
    {
      "cell_type": "markdown",
      "metadata": {
        "id": "0vk0r_8m_dWl",
        "colab_type": "text"
      },
      "source": [
        "Though the last two of these would work in python, they are not pythonic ways to name variables. The way we name variables is called snake case, because we tend to connect the words with underscores."
      ]
    },
    {
      "cell_type": "markdown",
      "metadata": {
        "id": "DAoihPxbFI_d",
        "colab_type": "text"
      },
      "source": [
        "\n",
        "\n",
        "What if we want to change or update the value of a variable for example take the example of rent = 1700, suppose the rent has hiked and the new rent is 2000 we can just assign the variable its new value as:"
      ]
    },
    {
      "cell_type": "code",
      "metadata": {
        "id": "81F5psRj_kUP",
        "colab_type": "code",
        "colab": {}
      },
      "source": [
        "rent = 1700\n",
        "rent = 2000\n",
        "print(rent)"
      ],
      "execution_count": null,
      "outputs": []
    },
    {
      "cell_type": "markdown",
      "metadata": {
        "id": "MavVAvfNGFOi",
        "colab_type": "text"
      },
      "source": [
        "This is called overwriting the variable , i.e, When a new value is assigned to a variable, the old one is forgotten.\n",
        "\n",
        "If we had then caused some damages to the property during our crazy house party and we have to pay for them then we can just apply these changes directly to this variable."
      ]
    },
    {
      "cell_type": "code",
      "metadata": {
        "id": "rkEh72gQFaK2",
        "colab_type": "code",
        "colab": {}
      },
      "source": [
        "rent = 1700\n",
        "rent = 2000\n",
        "rent =rent + 700\n",
        "print(rent)"
      ],
      "execution_count": null,
      "outputs": []
    },
    {
      "cell_type": "markdown",
      "metadata": {
        "id": "vqwJs-3bHU7S",
        "colab_type": "text"
      },
      "source": [
        "in the line 3 the variable *rent* is being assigned to itself plus 700 which results to 2700. \n",
        "\n",
        "Because such increment and assignment operations are very common python has a very special assignment operator for this. "
      ]
    },
    {
      "cell_type": "code",
      "metadata": {
        "id": "gUkRhTKnH9mv",
        "colab_type": "code",
        "colab": {}
      },
      "source": [
        "rent = 1700\n",
        "rent = 2000\n",
        "rent += 700\n",
        "print(rent)"
      ],
      "execution_count": null,
      "outputs": []
    },
    {
      "cell_type": "markdown",
      "metadata": {
        "id": "6N1_qkohIEb2",
        "colab_type": "text"
      },
      "source": [
        "we can actually use this **+=** operator to tell python that we are incrementing the value on the left by the value on the right. **+=** is a example of assignment operator **-= *= /=** are some more examples of assignment operators. All of these operators just apply arithmetic operation to the variable on the left with the value on the right which makes your code more concise and easier to read and understand."
      ]
    },
    {
      "cell_type": "markdown",
      "metadata": {
        "id": "lAV3yc89IiTE",
        "colab_type": "text"
      },
      "source": [
        "<br><h3>Question:</h3>\n",
        "You are managing your finances using python: \n",
        "\n",
        "* complete the tasks mentioned in the comments. and then print the amount left in your bank.\n",
        "\n",
        "> *Note that this code uses scientific notation to define large numbers. 1.2e6 is equal to        1.2 * 10 ** 6 which is equal to 1200000.*"
      ]
    },
    {
      "cell_type": "code",
      "metadata": {
        "id": "uodq27HAINVs",
        "colab_type": "code",
        "colab": {}
      },
      "source": [
        "# the amount of money in your bank account is 1.2e5\n",
        "amt = 1.2e6\n",
        "\n",
        "# money recieved every year in form of salary\n",
        "salary = 9.3e5\n",
        "\n",
        "# decrease the salary by 30% as tax paied to the government.\n",
        "\n",
        "\n",
        "# Add the salary to the bank account amt variable\n",
        "\n",
        "\n",
        "# increase the amt by 4% that you recieved from the bank as intrest\n",
        "\n",
        "\n",
        "# substract 1.2e5 from amt as the rent paied\n",
        "\n",
        "\n",
        "# print the new value of the amt variable\n"
      ],
      "execution_count": null,
      "outputs": []
    },
    {
      "cell_type": "markdown",
      "metadata": {
        "id": "kFgrnORZJIkZ",
        "colab_type": "text"
      },
      "source": [
        "##### Expected output:<br>1805040.0"
      ]
    },
    {
      "cell_type": "markdown",
      "metadata": {
        "id": "G3q5YcesJ8MV",
        "colab_type": "text"
      },
      "source": [
        "<br><br>\n",
        "\n",
        "## **7. Integers and Floats:**\n",
        "So far the numbers that we have dealt with were mostly whole numbers or integers, but as you may have notices that other types of numbers also do exist. For example dividing one integer by another gives us a number that isn't an integer, in python we represent such a number as a float, which is short for floating point number. "
      ]
    },
    {
      "cell_type": "code",
      "metadata": {
        "id": "fqai63lgI8v8",
        "colab_type": "code",
        "colab": {}
      },
      "source": [
        "print(3/2)"
      ],
      "execution_count": null,
      "outputs": []
    },
    {
      "cell_type": "markdown",
      "metadata": {
        "id": "25ijafCzMh4j",
        "colab_type": "text"
      },
      "source": [
        "Numbers with a decimal point, such as 3.14, are called floating-point numbers (or floats). Note that even though the value 42 is an integer, the value 42.0 would be a floating-point number. And if 2 integers are divided then also we get float as an answer.\n",
        "\n",
        "You can check the datatype of any value by using the builtin function of type, that returns the type of an object. Here as you can see they type of a number without a decimal and the type of a number with a decimal."
      ]
    },
    {
      "cell_type": "code",
      "metadata": {
        "id": "L6ZPHtSyKogM",
        "colab_type": "code",
        "colab": {}
      },
      "source": [
        "a = 3\n",
        "b = 2.5\n",
        "\n",
        "print(type(a))\n",
        "print(type(b))"
      ],
      "execution_count": null,
      "outputs": []
    },
    {
      "cell_type": "markdown",
      "metadata": {
        "id": "4zrtRdZtDnj6",
        "colab_type": "text"
      },
      "source": [
        "An operation involving an int and a float will always give float as its output. We can also covert one datatype to another by constructing new objects of those types with int and float. \n",
        "\n",
        "When we convert a float to an int the part after the decimal point is dropped and hence there is no rounding. eg 28.9 will be cut to 28. \n",
        "\n",
        "Similarly converting int to float just adds a decimal at the end of the number and a 0 after that. example 3 will become 3.0"
      ]
    },
    {
      "cell_type": "code",
      "metadata": {
        "id": "_17RKbnXMvSZ",
        "colab_type": "code",
        "colab": {}
      },
      "source": [
        "a = float(3)\n",
        "b = int(28.9)\n",
        "print(a)\n",
        "print(b)"
      ],
      "execution_count": null,
      "outputs": []
    },
    {
      "cell_type": "markdown",
      "metadata": {
        "id": "qlcwxnN0EYgx",
        "colab_type": "text"
      },
      "source": [
        "\n",
        "\n",
        "> Another point that you need to keep in mind is float are an approximation to the number they represent. As float can represent very large range of numbers python must use approximation to represent these numbers. For example this floating point number 0.23 is in reality slightly more than 0.23. such that if we add up 0.23 to itself a few times and check its equality to the expected resultant it will be different. Although the difference is very small but it exists never the less and you should know about it.\n",
        "\n"
      ]
    },
    {
      "cell_type": "code",
      "metadata": {
        "id": "ecx9e1p8DuVJ",
        "colab_type": "code",
        "colab": {}
      },
      "source": [
        "print(0.23 + 0.23 + 0.23 + 0.23 + 0.23 + 0.23\n",
        "       + 0.23 + 0.23 + 0.23 + 0.23 + 0.23 + 0.23\n",
        "       + 0.23 + 0.23 + 0.23 + 0.23 + 0.23 + 0.23\n",
        "       + 0.23 + 0.23 + 0.23 + 0.23 + 0.23 + 0.23\n",
        "       + 0.23 + 0.23 + 0.23 + 0.23+ 0.23 + 0.23 == 6.9)"
      ],
      "execution_count": null,
      "outputs": []
    },
    {
      "cell_type": "markdown",
      "metadata": {
        "id": "tqTe9v60FvTh",
        "colab_type": "text"
      },
      "source": [
        "<br><br>\n",
        "\n",
        "##**8. Division by Zero and Errors:**\n",
        "\n",
        "What happens if you divide by zero in Python? Try it out! Test run this code and see what happens."
      ]
    },
    {
      "cell_type": "code",
      "metadata": {
        "id": "GRd2s9UXF56A",
        "colab_type": "code",
        "colab": {}
      },
      "source": [
        "print(4/0)"
      ],
      "execution_count": null,
      "outputs": []
    },
    {
      "cell_type": "markdown",
      "metadata": {
        "id": "T7A07CYAGAkB",
        "colab_type": "text"
      },
      "source": [
        "what you should have seen when you submitted the Divide by Zero code above, Traceback means \n",
        "> *\"What was the programming doing when it broke\"! *\n",
        "\n",
        "This part is usually less helpful than the very last line of your error. Though you can dig through the rest of the error, looking at just the final line *ZeroDivisionError*, and the message says we divided by zero. Python is enforcing the rules of arithmetic!\n",
        "<br><br>\n",
        "In general, there are two types of errors to look out for\n",
        "\n",
        "* **Exceptions**\n",
        "* **Syntax** \n",
        "\n",
        "An Exception is a problem that occurs when the code is running, but a *'Syntax Error'* is a problem detected when Python checks the code before it runs it. For more information, see the Python tutorial page on [Errors and Exceptions](https://docs.python.org/3/tutorial/errors.html)."
      ]
    },
    {
      "cell_type": "markdown",
      "metadata": {
        "id": "cs768gAfFM2S",
        "colab_type": "text"
      },
      "source": [
        "<br><br>\n",
        "\n",
        "##**9. Boolean Datatype, Comparison and Logical Operators:**\n",
        "\n",
        "Bool is another datatype that is commonly used in Python. Bool is short for Boolean which can have a value of either True or False. Boolean algebra is the branch of algebra in which the values of the variables are the truth values true or false. Boolean algebra us the framework on which all electronic devices and built and exists fundamentally in every line of code inside a computer. In python we can easily assign boolean values like this:\n"
      ]
    },
    {
      "cell_type": "code",
      "metadata": {
        "id": "JW5nXrxsEnin",
        "colab_type": "code",
        "colab": {}
      },
      "source": [
        "python_awsome = True\n",
        "doumentation_bad = False"
      ],
      "execution_count": null,
      "outputs": []
    },
    {
      "cell_type": "markdown",
      "metadata": {
        "id": "a-JN4xZlHmzD",
        "colab_type": "text"
      },
      "source": [
        "We can use comparison operators to compare 2 values and produce boolean results like:"
      ]
    },
    {
      "cell_type": "code",
      "metadata": {
        "id": "mVRNbJecHjgH",
        "colab_type": "code",
        "colab": {}
      },
      "source": [
        "a = 3 > 1\n",
        "print(a)"
      ],
      "execution_count": null,
      "outputs": []
    },
    {
      "cell_type": "markdown",
      "metadata": {
        "id": "QK7KL0o3Jqo3",
        "colab_type": "text"
      },
      "source": [
        "Here 3 is greater than 1 so printing out the output gives us a boolean value to true. There are many comparison operators in python, as you can see here are all of them.\n",
        "\n",
        "As you will see the function of all these comparison operators are evident from their names itself these are **less than,  greater than , less than or equal to, greater than or equal to, not equal to**.\n",
        "\n",
        "Working with boolean has its own set of operators called as logical operators. These operators very useful when working with boolean, and evaluates if both the sides are true, **OR** evaluates if atleast one side is true and **not** evaluates the inverse of the input boolean.\n",
        "\n",
        "Lets understand if via an example:"
      ]
    },
    {
      "cell_type": "code",
      "metadata": {
        "id": "eN24eeGyHl6k",
        "colab_type": "code",
        "colab": {}
      },
      "source": [
        "rent = 1200\n",
        "is_affordable = rent > 1000 and rent < 2000\n",
        "\n",
        "print(is_affordable)"
      ],
      "execution_count": null,
      "outputs": []
    },
    {
      "cell_type": "markdown",
      "metadata": {
        "id": "XgntpdwgLpzT",
        "colab_type": "text"
      },
      "source": [
        "Here we check if the *rent* of a house is affordable or not, here in the second line we evaluate both the sides ie *rent > 1000*, yes, so it is **true** while the second condition is *rent < 200*, that too is **true**. as both the condition on the left and right side of and is **true** hence the boolean value of **true** will be assigned to the *is_affordable variable*. In other words if the *rent* is greater than 1000 and less than 2000 then only it is affordable.\n",
        "\n",
        "And here you can see how not works:"
      ]
    },
    {
      "cell_type": "code",
      "metadata": {
        "id": "8c9_zsNvKR0v",
        "colab_type": "code",
        "colab": {}
      },
      "source": [
        "rent = 1200\n",
        "is_affordable = not(rent > 1000 and rent < 2000) #\"not\" just inverts bool value\n",
        "\n",
        "print(is_affordable)"
      ],
      "execution_count": null,
      "outputs": []
    },
    {
      "cell_type": "markdown",
      "metadata": {
        "id": "NDgIKOVeOPUW",
        "colab_type": "text"
      },
      "source": [
        "<br><h3>**Question:**</h3>\n",
        "\n",
        "Is **Mumbai** more **dense** than Delhi?\n",
        "> *Print ***True*** if it is and ***False*** if it is not.*\n"
      ]
    },
    {
      "cell_type": "code",
      "metadata": {
        "id": "2Fq_HK_mPYkD",
        "colab_type": "code",
        "colab": {}
      },
      "source": [
        "mum_population, mum_area = 20411000, 4355\n",
        "del_population, del_area = 30291000, 1484\n",
        "\n",
        "mum_francisco_pop_density = mum_population/mum_area\n",
        "del_de_janeiro_pop_density = del_population/del_area\n",
        "\n",
        "# Print True if Mumbai is denser than Delhi, and False otherwise\n"
      ],
      "execution_count": null,
      "outputs": []
    },
    {
      "cell_type": "markdown",
      "metadata": {
        "id": "xflyycOOQZUP",
        "colab_type": "text"
      },
      "source": [
        "##### Expected output:<br>False"
      ]
    },
    {
      "cell_type": "markdown",
      "metadata": {
        "id": "oeq2QDdEMSK8",
        "colab_type": "text"
      },
      "source": [
        "<br><br>\n",
        "\n",
        "## **10. Strings:**\n",
        "\n",
        "Python has another datatype in its toolkit called as Strings, as the name suggest this datatype deals with characters words and text. String is a immutable order of sequences of characters (eg, Letters, numbers, spaces and symbols. We will be explaining what does immutable order means later on.\n",
        "\n",
        "You can create a string by using quotes as seen here, you can use either single / double quotes they both work equally well but there are some cases where you might prefer one over the other which we will be discussing below."
      ]
    },
    {
      "cell_type": "code",
      "metadata": {
        "id": "Q84mRQ2_MFGW",
        "colab_type": "code",
        "colab": {}
      },
      "source": [
        "# using Double Quotes\n",
        "print(\"ShapeAI\")\n",
        "# using Single Quotes\n",
        "print('ShapeAI')"
      ],
      "execution_count": null,
      "outputs": []
    },
    {
      "cell_type": "markdown",
      "metadata": {
        "id": "odFoazduN4rR",
        "colab_type": "text"
      },
      "source": [
        "In this example we printed the word *ShapeAI* using single and double quotes and got the same output *ShapeAI*.\n",
        "\n",
        "We can also assign a string to a variable just like float and int."
      ]
    },
    {
      "cell_type": "code",
      "metadata": {
        "id": "Krfhjf9NN0-D",
        "colab_type": "code",
        "colab": {}
      },
      "source": [
        "motto = \"Learn | Code | Compete | Intern\" \n",
        "print(motto)"
      ],
      "execution_count": null,
      "outputs": []
    },
    {
      "cell_type": "markdown",
      "metadata": {
        "id": "YHgDcRm6R0FI",
        "colab_type": "text"
      },
      "source": [
        "Strings in Python are shown as the variable type str."
      ]
    },
    {
      "cell_type": "code",
      "metadata": {
        "id": "YkyDHgq3RW6K",
        "colab_type": "code",
        "colab": {}
      },
      "source": [
        "type(motto)"
      ],
      "execution_count": null,
      "outputs": []
    },
    {
      "cell_type": "markdown",
      "metadata": {
        "id": "SjqlkfgzR-gR",
        "colab_type": "text"
      },
      "source": [
        "> *String can contain any character number symbol space within the quotes.\n",
        "However if we want to have quotes inside the string we get an error.*"
      ]
    },
    {
      "cell_type": "code",
      "metadata": {
        "id": "788JWDKUR4BD",
        "colab_type": "code",
        "colab": {}
      },
      "source": [
        "dialogue = \"shiva said, \"you learn as you grow\"\""
      ],
      "execution_count": null,
      "outputs": []
    },
    {
      "cell_type": "markdown",
      "metadata": {
        "id": "WjG9dsH5SOFT",
        "colab_type": "text"
      },
      "source": [
        "Python provides 2 easy ways to handle such problem:\n",
        "\n",
        "1. Place the string in single quotes rather than double quotes. This will solve your problem for having double quotes within the string. But sometimes you will want to have both double and single quotes in your string in that case this will prove to be a problem."
      ]
    },
    {
      "cell_type": "code",
      "metadata": {
        "id": "_lPyEIYmSIes",
        "colab_type": "code",
        "colab": {}
      },
      "source": [
        "dialogue = 'shiva said, \"you learn as you grow\"'\n",
        "print(dialogue)"
      ],
      "execution_count": null,
      "outputs": []
    },
    {
      "cell_type": "markdown",
      "metadata": {
        "id": "EMqd6v3xSMno",
        "colab_type": "text"
      },
      "source": [
        "2. In that case we can use a backslash to skip quotes as you can see in this example. The backslash helps python to know that the the single quote should be interpreted as part of the string rather than the quote that ends the string."
      ]
    },
    {
      "cell_type": "code",
      "metadata": {
        "id": "otSfYmAoS2TM",
        "colab_type": "code",
        "colab": {}
      },
      "source": [
        "dialogue = '\"shiva you\\'re bag is red\"'\n",
        "print(dialogue)"
      ],
      "execution_count": null,
      "outputs": []
    },
    {
      "cell_type": "markdown",
      "metadata": {
        "id": "RA3hh1VhTFUF",
        "colab_type": "text"
      },
      "source": [
        "There are a few operators that we use on floats and ints that can also be used on strings. For example we can use the **'+'** to combine / concatenate 2 strings together and we can use **'*'** to repeat the string let us look at an example for each."
      ]
    },
    {
      "cell_type": "code",
      "metadata": {
        "id": "bIBYEJ6uS7ko",
        "colab_type": "code",
        "colab": {}
      },
      "source": [
        "print(\"hello\" + \"world\")\n",
        "\n",
        "print(\"hello\" + \" \" + \"world\")"
      ],
      "execution_count": null,
      "outputs": []
    },
    {
      "cell_type": "markdown",
      "metadata": {
        "id": "iurj3HxXTkx2",
        "colab_type": "text"
      },
      "source": [
        "> *here in this example we can see that using the plus arithmetic operator we get *helloworld* written together but this word that is printed out has no meaning, we need to have a space between both the words to have a meaning. We can add another string containing just a space in between the words to do so.*"
      ]
    },
    {
      "cell_type": "code",
      "metadata": {
        "id": "jYVDqes0TeCz",
        "colab_type": "code",
        "colab": {}
      },
      "source": [
        "word = \"hello\"\n",
        "print(word * 5)"
      ],
      "execution_count": null,
      "outputs": []
    },
    {
      "cell_type": "markdown",
      "metadata": {
        "id": "78vTvfYSTwap",
        "colab_type": "text"
      },
      "source": [
        "Now in the second example we can see that using the multiplication operator on a string we get repetition of the same word as many time as the number we multiplied the string by in the output."
      ]
    },
    {
      "cell_type": "markdown",
      "metadata": {
        "id": "fIFnUmZcT3_I",
        "colab_type": "text"
      },
      "source": [
        "However unlike multiplication and addition operators the other arithmetic operators like division and subtraction cannot be used on strings any attempt to do so would result in an error that string is an unsupported datatype for the division/subtraction operator."
      ]
    },
    {
      "cell_type": "code",
      "metadata": {
        "id": "h2nM7OBxT3he",
        "colab_type": "code",
        "colab": {}
      },
      "source": [
        "word_1 = \"hello\"\n",
        "word_2 = \"world\"\n",
        "print(word_1 / word_2)"
      ],
      "execution_count": null,
      "outputs": []
    },
    {
      "cell_type": "markdown",
      "metadata": {
        "id": "9gumg_-mUBfA",
        "colab_type": "text"
      },
      "source": [
        "A useful builtin function for string datatypes is *len()* which stands for length. As the name suggests (it returns the length of an object ie., it returns the no of characters in a string.\n",
        "\n",
        "It takes in values in a parenthesis and returns the length of the string. *len()* is a little different from *print()* as the value returned from length can be stored in a variable as seen in the example here. The *len()* function outputs a value 7 that is then stored in a variable called as *word_length* which is then printed out."
      ]
    },
    {
      "cell_type": "code",
      "metadata": {
        "id": "oQNIXXfNTtzl",
        "colab_type": "code",
        "colab": {}
      },
      "source": [
        "word_length = len(\"ShapeAI\")\n",
        "print(word_length)"
      ],
      "execution_count": null,
      "outputs": []
    },
    {
      "cell_type": "markdown",
      "metadata": {
        "id": "EEfczWGFzu6Y",
        "colab_type": "text"
      },
      "source": [
        "### **Question:**\n",
        "\n",
        "The line of code in the following code block will cause a *SyntaxError*, thanks to the misuse of quotation marks. First run it with Test Run to view the error message. Then resolve the problem so that the quote (from Mahatama Gandhi) is correctly assigned to the variable *gandhi_quote*."
      ]
    },
    {
      "cell_type": "code",
      "metadata": {
        "id": "MnmykPZy0F-w",
        "colab_type": "code",
        "colab": {}
      },
      "source": [
        "# TODO: Fix this string!\n",
        "gandhi_quote = 'If you don't ask, you don't get it'"
      ],
      "execution_count": null,
      "outputs": []
    },
    {
      "cell_type": "markdown",
      "metadata": {
        "id": "GDbOH8th0g7c",
        "colab_type": "text"
      },
      "source": [
        "### **Question:**\n",
        "\n",
        "In this question you have to print the accuracy logs of a model in training."
      ]
    },
    {
      "cell_type": "code",
      "metadata": {
        "id": "tlAI_jTK0ywg",
        "colab_type": "code",
        "colab": {}
      },
      "source": [
        "model = \"VGG16\"\n",
        "iteration = \"150\"\n",
        "accuracy = \"67.98\"\n",
        "\n",
        "# TODO: print a log message using the variables above\n",
        "# This message should have the same format as this one:\n",
        "# \"the accuracy of ResNET50 model in 100th iteration is: 42.16%\""
      ],
      "execution_count": null,
      "outputs": []
    },
    {
      "cell_type": "markdown",
      "metadata": {
        "id": "WiPTD1y81uXZ",
        "colab_type": "text"
      },
      "source": [
        "### **Question:**\n",
        "\n",
        "Use string concatination and *len()* function to fing the length of a persons complete name and store it in the variable *name_length*.\n",
        "\n",
        "As a business card designer find if the name can fit into a business card. "
      ]
    },
    {
      "cell_type": "code",
      "metadata": {
        "id": "9Hzh7_vB1tpb",
        "colab_type": "code",
        "colab": {}
      },
      "source": [
        "given_name = \"Rahul\"\n",
        "middle_names = \"Shastri\"\n",
        "family_name = \"Mishra\"\n",
        "\n",
        "name_length = #todo: calculate how long this name is\n",
        "\n",
        "# Now we check to make sure that the name fits within the driving license character limit\n",
        "# Nothing you need to do here\n",
        "driving_license_character_limit = 28\n",
        "print(name_length <= driving_license_character_limit)"
      ],
      "execution_count": null,
      "outputs": []
    },
    {
      "cell_type": "markdown",
      "metadata": {
        "id": "Juq_M-ENy6-_",
        "colab_type": "text"
      },
      "source": [
        "<br><br>\n",
        "\n",
        "## **11. Type and Type Conversion Revision:**\n",
        "\n",
        "Till now we have covered 4 different datatypes int, float, bool and string. As you can recall from the previous classes python has a builtin function called as type that returns the type of an object."
      ]
    },
    {
      "cell_type": "code",
      "metadata": {
        "id": "wsr3y0KgyuWW",
        "colab_type": "code",
        "colab": {}
      },
      "source": [
        "print(type(75))\n",
        "print(type(75.0))\n",
        "print(type(\"75\"))\n",
        "print(type(True))"
      ],
      "execution_count": null,
      "outputs": []
    },
    {
      "cell_type": "markdown",
      "metadata": {
        "id": "iGgkIXg5zgwN",
        "colab_type": "text"
      },
      "source": [
        "Look at the code example we can see that even though the first 3 values appear to be same they can be encoded into different datatypes each with their own set of functions operations and uses.\n",
        "\n",
        "This is to note that here we have called the function print on another function type to output the return value of the function type. In such a case always the function inside the parenthesis is  run first ie. here it will be type.\n",
        "\n",
        "Different types have different properties with their own set of functions operations and uses and hence while choosing a variable you need to choose the correct set of datatype for it depending upon how you care going to use it this is very important.\n",
        "\n",
        "There might be sometimes when you don't have the control over the type of the data being provided to you like one that has been received from a user as in input. But the good news is that python allows you to create new objects from old and change the datatypes for these new objects. As we had previously seen in the integers and floats video."
      ]
    },
    {
      "cell_type": "markdown",
      "metadata": {
        "id": "bBZGIBLe6kKT",
        "colab_type": "text"
      },
      "source": [
        "> For example here we created a float ie 3.0 from an int 3 and assigned it to a new variable called decimal"
      ]
    },
    {
      "cell_type": "code",
      "metadata": {
        "id": "yUceqN1QzIJ0",
        "colab_type": "code",
        "colab": {}
      },
      "source": [
        "decimal = float(3)\n",
        "print(decimal)\n",
        "print(type(decimal))"
      ],
      "execution_count": null,
      "outputs": []
    },
    {
      "cell_type": "markdown",
      "metadata": {
        "id": "OHQFOeZi6o6c",
        "colab_type": "text"
      },
      "source": [
        "> In this next example we created a string from the integer variable *marks* and used that to create a larger string."
      ]
    },
    {
      "cell_type": "code",
      "metadata": {
        "id": "xZwhCiLZ6jky",
        "colab_type": "code",
        "colab": {}
      },
      "source": [
        "marks = 15\n",
        "subject = \"coding\"\n",
        "semester = \"first\"\n",
        "\n",
        "result = \"I scored \" + str(marks) + \" in \" + subject + \" during my \" + semester + \" semester.\"\n",
        "print(result)"
      ],
      "execution_count": null,
      "outputs": []
    },
    {
      "cell_type": "markdown",
      "metadata": {
        "id": "IqgSdyf067yQ",
        "colab_type": "text"
      },
      "source": [
        "> we can also create an float from string"
      ]
    },
    {
      "cell_type": "code",
      "metadata": {
        "id": "Kqsda09k6d4x",
        "colab_type": "code",
        "colab": {}
      },
      "source": [
        "marks = \"15\"\n",
        "print(type(marks))\n",
        "\n",
        "marks = float(marks)\n",
        "print(type(marks))"
      ],
      "execution_count": null,
      "outputs": []
    },
    {
      "cell_type": "markdown",
      "metadata": {
        "id": "pzFSq-6W7oZi",
        "colab_type": "text"
      },
      "source": [
        "### **Question:**\n",
        "\n",
        "In this quiz, you’ll need to change the types of the input and output data in order to get the result you want.\n",
        "\n",
        "Calculate and print the total sales for the week from the data provided. Print out a string of the form \"This week's total sales: xxx\", where xxx will be the actual total of all the numbers. You’ll need to change the type of the input data in order to calculate that total."
      ]
    },
    {
      "cell_type": "code",
      "metadata": {
        "id": "hu24eSfU7Q3F",
        "colab_type": "code",
        "colab": {}
      },
      "source": [
        "mon_sales = \"121\"\n",
        "tues_sales = \"105\"\n",
        "wed_sales = \"110\"\n",
        "thurs_sales = \"98\"\n",
        "fri_sales = \"95\"\n",
        "\n",
        "#TODO: Print a string with this format: This week's total sales: xxx\n",
        "# You will probably need to write some lines of code before the print statement.\n",
        "total_sales = (float(mon_sales) + float(tues_sales) + float(wed_sales) \n",
        "                + float(thurs_sales) + float(fri_sales))\n",
        "print(\"This week\\'s total sales: \" + str(total_sales))"
      ],
      "execution_count": null,
      "outputs": []
    },
    {
      "cell_type": "markdown",
      "metadata": {
        "id": "_tvr0pgf81Ia",
        "colab_type": "text"
      },
      "source": [
        "<br><br>\n",
        "\n",
        "## **12. String Methods:**\n",
        "\n",
        "Methods are like some of the functions you have already seen:\n",
        "\n",
        "* len(\"this\")\n",
        "* type(12)\n",
        "* print(\"Hello world\")\n",
        "\n",
        "These three above are functions - notice they use parentheses, and accept one or more arguments. Functions will be studied in much more detail in a later lesson!\n",
        "\n",
        "A method in Python behaves similarly to a function. Methods actually are functions that are called using dot notation. For example, *lower()* is a string method that can be used like this, on a string called **\"sample string\"**: *sample_string.lower()*.\n",
        "\n",
        "Methods are specific to the data type for a particular variable. So there are some built-in methods that are available for all strings, different methods that are available for all integers, etc.\n",
        "\n",
        "Below is an image that shows some methods that are possible with any string.\n",
        "\n",
        "![screen-shot-2018-02-01-at-12.10.40-am.png](data:image/png;base64,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)\n",
        "\n"
      ]
    },
    {
      "cell_type": "markdown",
      "metadata": {
        "id": "QS5GaKp3UNzN",
        "colab_type": "text"
      },
      "source": [
        "Each of these methods accepts the string itself as the first argument of the method. However, they also could receive additional arguments, that are passed inside the parentheses. Let's look at the output for a few examples."
      ]
    },
    {
      "cell_type": "code",
      "metadata": {
        "id": "4-CIUQmt75KN",
        "colab_type": "code",
        "colab": {}
      },
      "source": [
        "my_string = \"ShapeAI\"\n",
        "print(my_string.islower())\n",
        "\n",
        "print(my_string.count('a'))\n",
        "\n",
        "print(my_string.find('a'))"
      ],
      "execution_count": null,
      "outputs": []
    },
    {
      "cell_type": "markdown",
      "metadata": {
        "id": "zCSjfToiVx7t",
        "colab_type": "text"
      },
      "source": [
        "You can see that the count and find methods both take another argument. However, the .islower() method does not accept another argument.\n",
        "\n",
        "No professional has all the methods memorized, which is why understanding how to use documentation and find answers is so important. Gaining a strong grasp of the foundations of programming will allow you to use those foundations to use documentation to build so much more than someone who tries to memorize all the built-in methods in Python."
      ]
    },
    {
      "cell_type": "markdown",
      "metadata": {
        "id": "4M_Qt7mSWGuD",
        "colab_type": "text"
      },
      "source": [
        "### **12.a. One important string method: format()**\n",
        "\n",
        "We will be using the *format()* string method a good bit in our future work in Python, and you will find it very valuable in your coding, especially with your print statements.\n",
        "\n",
        "We can best illustrate how to use *format()* by looking at some examples:"
      ]
    },
    {
      "cell_type": "code",
      "metadata": {
        "id": "utXx78crUTO0",
        "colab_type": "code",
        "colab": {}
      },
      "source": [
        "# Example 1\n",
        "print(\"EG:1\")\n",
        "print(\"Mohammed has {} balloons\".format(27))\n",
        "\n",
        "# Example 2\n",
        "print(\"EG:2\")\n",
        "animal = \"dog\"\n",
        "action = \"bite\"\n",
        "print(\"Does your {} {}?\".format(animal, action))\n",
        "\n",
        "# Example 3\n",
        "print(\"EG:3\")\n",
        "maria_string = \"Maria loves {} and {}\"\n",
        "print(maria_string.format(\"math\",\"statistics\"))"
      ],
      "execution_count": null,
      "outputs": []
    },
    {
      "cell_type": "markdown",
      "metadata": {
        "id": "G9ybjouxWyQe",
        "colab_type": "text"
      },
      "source": [
        "Notice how in each example, the number of pairs of curly braces {} you use inside the string is the same as the number of replacements you want to make using the values inside *format()*.\n",
        "\n",
        "More advanced students can learn more about the formal syntax for using the *format()* string method [here](https://docs.python.org/3.6/library/string.html#format-string-syntax)."
      ]
    },
    {
      "cell_type": "markdown",
      "metadata": {
        "id": "PqKTCtYOTMQ8",
        "colab_type": "text"
      },
      "source": [
        "<br><br>\n",
        "\n",
        "## **13. Lists and Membership Operators:**\n",
        "\n",
        "**Data structures** are containers that organize and group data types together in different ways. A **list** is one of the most common and basic data structures in Python. It is a mutable ordered sequence of elements.\n",
        "\n",
        "The code below defines a variable *students* which contains a list of strings. Each element in the list is a string that signifies the name of a student.\n",
        "\n",
        "> The data inside a list can be a mixture of any number and combination of diffrent data types."
      ]
    },
    {
      "cell_type": "code",
      "metadata": {
        "id": "zRS5zyHbWqaP",
        "colab_type": "code",
        "colab": {}
      },
      "source": [
        "students = ['sam', 'pam', 'rocky', 'austin', 'steve', 'banner']"
      ],
      "execution_count": null,
      "outputs": []
    },
    {
      "cell_type": "markdown",
      "metadata": {
        "id": "fl7PSRXXdhrO",
        "colab_type": "text"
      },
      "source": [
        "List are ordered, we can look up individual elements by their index, we can look elements from a list just like we have done below."
      ]
    },
    {
      "cell_type": "code",
      "metadata": {
        "id": "uERsCZXNeBbY",
        "colab_type": "code",
        "colab": {}
      },
      "source": [
        "print(students[0])\n",
        "print(students[1])\n",
        "print(students[2])"
      ],
      "execution_count": null,
      "outputs": []
    },
    {
      "cell_type": "markdown",
      "metadata": {
        "id": "cGgwxP3_eWir",
        "colab_type": "text"
      },
      "source": [
        "Notice that the first element in the list is accessed by the index 0, many programming language follow this convection called as zero based indexing.\n",
        "\n",
        "We can also access the elements from the end of the list using negative index as seen in the examples below."
      ]
    },
    {
      "cell_type": "code",
      "metadata": {
        "id": "CiGVaf_beRAC",
        "colab_type": "code",
        "colab": {}
      },
      "source": [
        "print(students[-1])\n",
        "print(students[-2])\n",
        "print(students[-3])"
      ],
      "execution_count": null,
      "outputs": []
    },
    {
      "cell_type": "markdown",
      "metadata": {
        "id": "KqJU4qOYgE6A",
        "colab_type": "text"
      },
      "source": [
        "If you try to access an index in a list that doesn't exist then you will get an Error as seen below."
      ]
    },
    {
      "cell_type": "code",
      "metadata": {
        "id": "C5DSaY0Wf2wT",
        "colab_type": "code",
        "colab": {}
      },
      "source": [
        "print(students[20])"
      ],
      "execution_count": null,
      "outputs": []
    },
    {
      "cell_type": "markdown",
      "metadata": {
        "id": "nKJIgDrZh0Cn",
        "colab_type": "text"
      },
      "source": [
        "### **Question:**\n",
        "\n",
        "Try to use *len()* to pull the last element from the above list"
      ]
    },
    {
      "cell_type": "code",
      "metadata": {
        "id": "NOiBUWAwgV87",
        "colab_type": "code",
        "colab": {}
      },
      "source": [
        "# TODO: write your code here\n",
        "students[len(students)-1]"
      ],
      "execution_count": null,
      "outputs": []
    },
    {
      "cell_type": "markdown",
      "metadata": {
        "id": "WZU02jRcFFPN",
        "colab_type": "text"
      },
      "source": [
        "## **13.a. Membership Operators:[Lists]**\n",
        "\n",
        "In addition to accessing individual elements froma a list, we can use pythons sliceing notation to access a subsequence of a list.\n",
        "\n",
        "Slicing means using indicies to slice off parts of an object like list/string. Look at an example "
      ]
    },
    {
      "cell_type": "code",
      "metadata": {
        "id": "dLyKcmXNiLwU",
        "colab_type": "code",
        "colab": {}
      },
      "source": [
        "students = ['sam', 'pam', 'rocky', 'austin', 'steve', 'banner', 'tony', 'bruce', \n",
        "            'henry', 'clark', 'diana']\n",
        "student = \"Barry\"\n",
        "\n",
        "# slice a particular range\n",
        "marvel = students[4:7]\n",
        "flash = student[1:3]\n",
        "\n",
        "print(marvel)\n",
        "print(flash)"
      ],
      "execution_count": null,
      "outputs": []
    },
    {
      "cell_type": "code",
      "metadata": {
        "id": "hzDrsBVELAsr",
        "colab_type": "code",
        "colab": {}
      },
      "source": [
        "# slice from the end\n",
        "dc = students[7:]\n",
        "flash = student[1:]\n",
        "\n",
        "print(dc)\n",
        "print(flash)"
      ],
      "execution_count": null,
      "outputs": []
    },
    {
      "cell_type": "code",
      "metadata": {
        "id": "NYSNXq7wLtR9",
        "colab_type": "code",
        "colab": {}
      },
      "source": [
        "# slice from the begining\n",
        "normal = students[:4]\n",
        "flash = student[:3]\n",
        "\n",
        "print(normal)\n",
        "print(flash)"
      ],
      "execution_count": null,
      "outputs": []
    },
    {
      "cell_type": "code",
      "metadata": {
        "id": "uXeNb-9qNdkL",
        "colab_type": "code",
        "colab": {}
      },
      "source": [
        "# length of the list and the string\n",
        "print(len(students))\n",
        "print(len(student))"
      ],
      "execution_count": null,
      "outputs": []
    },
    {
      "cell_type": "markdown",
      "metadata": {
        "id": "FPqHnXKXMLku",
        "colab_type": "text"
      },
      "source": [
        "Of the types we have seen lists are most familier to strings, both supports the *len()* function, indexing and slicing.\n",
        "\n",
        "> Here above you have seen that the length of a string is the no of characters in the string, while the length of a list is the no of elements in the list.\n",
        "\n",
        "Another thing that they both supports aare membership operators:\n",
        "\n",
        "* **in:** evaluates if an object on the left side is included in the object on the right side.\n",
        "* **not in:** evaluates if object on left side is not included in object on right side."
      ]
    },
    {
      "cell_type": "code",
      "metadata": {
        "id": "3WSj6PZYL3Eg",
        "colab_type": "code",
        "colab": {}
      },
      "source": [
        "greeting = \"Hello there\"\n",
        "print('her' in greeting, 'her' not in greeting)"
      ],
      "execution_count": null,
      "outputs": []
    },
    {
      "cell_type": "code",
      "metadata": {
        "id": "sQIsQ-_PRZQm",
        "colab_type": "code",
        "colab": {}
      },
      "source": [
        "print('ShapeAI' in students, 'ShapeAI' not in students)"
      ],
      "execution_count": null,
      "outputs": []
    },
    {
      "cell_type": "markdown",
      "metadata": {
        "id": "ykKZQtwXfWRd",
        "colab_type": "text"
      },
      "source": [
        "### **13.b. Mutability and Order:**\n",
        "\n",
        "So how are Lists diffrent from Strings, both supporst slicing, indexing, in and not in operators.\n",
        "\n",
        "The most obvious diffrence between them is that string is a sequence of characters while list's elements can be any type of bojects string, integers, floats orr bools.\n",
        "\n",
        "A more important diference is that lists can be modified but string can't. Look at the example below to understand more."
      ]
    },
    {
      "cell_type": "code",
      "metadata": {
        "id": "uEYr9AS0Rlxe",
        "colab_type": "code",
        "colab": {}
      },
      "source": [
        "students = ['sam', 'pam', 'rocky', 'austin', 'steve', 'banner', 'tony', 'bruce', \n",
        "            'henry', 'clark', 'diana']\n",
        "\n",
        "students[2] = 'ben'\n",
        "print(students)"
      ],
      "execution_count": null,
      "outputs": []
    },
    {
      "cell_type": "code",
      "metadata": {
        "id": "FHuFUelijkOp",
        "colab_type": "code",
        "colab": {}
      },
      "source": [
        "student = \"Barry\"\n",
        "student[1] = \"e\"\n",
        "print(student)"
      ],
      "execution_count": null,
      "outputs": []
    },
    {
      "cell_type": "markdown",
      "metadata": {
        "id": "xMiN9z9pkAWm",
        "colab_type": "text"
      },
      "source": [
        "**Mutability** is about whether or not we can change an object once it has been created. If an object (like a list or string) can be changed (like a list can), then it is called **mutable**. However, if an object cannot be changed without creating a completely new object (like strings), then the object is considered immutable."
      ]
    },
    {
      "cell_type": "markdown",
      "metadata": {
        "id": "xm5EHFuykdpP",
        "colab_type": "text"
      },
      "source": [
        "**Order** is about whether the position of an element in the object can be used to access the element. **Both strings and lists are ordered.** We can use the order to access parts of a list and string.\n",
        "\n",
        "> However, you will see some data types in the next sections that will be unordered. For each of the upcoming data structures you see, it is useful to understand how you index, are they mutable, and are they ordered. Knowing this about the data structure is really useful!\n",
        "\n",
        "Additionally, you will see how these each have different methods, so why you would use one data structure vs. another is largely dependent on these properties, and what you can easily do with it!"
      ]
    },
    {
      "cell_type": "markdown",
      "metadata": {
        "id": "nQ22-QIIRXsG",
        "colab_type": "text"
      },
      "source": [
        "Previously when we created a variable that heald an immutable object like string, the value of the immutable object was saved in memory. Like as you can see below"
      ]
    },
    {
      "cell_type": "code",
      "metadata": {
        "id": "-JjIXgKuPjlO",
        "colab_type": "code",
        "colab": {}
      },
      "source": [
        "student = \"pam\"\n",
        "character = student\n",
        "print(character)\n",
        "character = \"peter\"\n",
        "print(character)\n",
        "print(student)"
      ],
      "execution_count": null,
      "outputs": []
    },
    {
      "cell_type": "markdown",
      "metadata": {
        "id": "T4SpeeBCZAVB",
        "colab_type": "text"
      },
      "source": [
        "Lists are diffrent from strings as they are mutable as can be seen from the example below"
      ]
    },
    {
      "cell_type": "code",
      "metadata": {
        "id": "fDu_EQW3j5yw",
        "colab_type": "code",
        "colab": {}
      },
      "source": [
        "students = ['sam', 'pam', 'rocky', 'austin', 'steve', 'banner', 'tony', 'bruce', \n",
        "            'henry', 'clark', 'diana']\n",
        "characters = students\n",
        "print(characters)\n",
        "characters[1]= \"peter\"\n",
        "print(characters)\n",
        "print(students)"
      ],
      "execution_count": null,
      "outputs": []
    },
    {
      "cell_type": "markdown",
      "metadata": {
        "id": "VC6ZnlQfZjsF",
        "colab_type": "text"
      },
      "source": [
        "There are some useful functions for lists that you should get familier with.\n",
        "\n",
        "1. ***len():*** returns how many elements does the list has.\n",
        "2. ***max():*** returns the greatest element of a list.\n",
        "3. ***min():*** returns the smallest element of a list.\n",
        "4. ***sorted():*** returns a copy of the list, in order from smallest to the largest. leaving the orignal list unchanged\n",
        "\n",
        "> max element in a list of integers is the largest integer, while in the case of string is the string that will come last if the list was sorted alphabetically."
      ]
    },
    {
      "cell_type": "code",
      "metadata": {
        "id": "bk55uR0VPzqr",
        "colab_type": "code",
        "colab": {}
      },
      "source": [
        "students = ['sam', 'pam', 'rocky', 'austin', 'steve', 'banner', 'tony', 'bruce', \n",
        "            'henry', 'clark', 'diana']\n",
        "\n",
        "student = \"barry\"\n",
        "\n",
        "print(max(students))\n",
        "print(max(student))"
      ],
      "execution_count": null,
      "outputs": []
    },
    {
      "cell_type": "markdown",
      "metadata": {
        "id": "hL-h6v8Nev9j",
        "colab_type": "text"
      },
      "source": [
        "> a point to note is that even though you can have a list cntaining int and string a max function will be undefined upon such a list."
      ]
    },
    {
      "cell_type": "code",
      "metadata": {
        "id": "qofTAIxvccsm",
        "colab_type": "code",
        "colab": {}
      },
      "source": [
        "max([2, 'two'])"
      ],
      "execution_count": null,
      "outputs": []
    },
    {
      "cell_type": "code",
      "metadata": {
        "id": "DmQ7YXTse_Le",
        "colab_type": "code",
        "colab": {}
      },
      "source": [
        "characters = sorted(students)\n",
        "print(characters)"
      ],
      "execution_count": null,
      "outputs": []
    },
    {
      "cell_type": "markdown",
      "metadata": {
        "id": "SZiwJj5ua7qs",
        "colab_type": "text"
      },
      "source": [
        "***Join()*** is an other useful function for lists(string lists), Join is a string method that takes a list of strings as an argument, and returns a string consisting of the list elements joined by a separator string. Look at the example below to understand.\n",
        "\n"
      ]
    },
    {
      "cell_type": "code",
      "metadata": {
        "id": "tUxIAmUiZgOv",
        "colab_type": "code",
        "colab": {}
      },
      "source": [
        "sep_str = \"\\n\".join([\"Jack\", \"O\", \"Lantern\"])\n",
        "print(sep_str)"
      ],
      "execution_count": null,
      "outputs": []
    },
    {
      "cell_type": "markdown",
      "metadata": {
        "id": "mKrXZopBesma",
        "colab_type": "text"
      },
      "source": [
        "In this example we use the string **\"\\n\"** as the separator so that there is a newline between each element.\n",
        "We can also use other strings as separators with .join. Here we use a hyphen."
      ]
    },
    {
      "cell_type": "code",
      "metadata": {
        "id": "GPH5EfbYepKQ",
        "colab_type": "code",
        "colab": {}
      },
      "source": [
        "name = \"-\".join([\"Jack\", \"O\", \"Lantern\"])\n",
        "print(name)"
      ],
      "execution_count": null,
      "outputs": []
    },
    {
      "cell_type": "markdown",
      "metadata": {
        "id": "z4Qml70wfYt5",
        "colab_type": "text"
      },
      "source": [
        "> It is important to remember to separate each of the items in the list you are joining with a comma (,). Forgetting to do so will not trigger an error, but will also give you unexpected results."
      ]
    },
    {
      "cell_type": "markdown",
      "metadata": {
        "id": "NaEnB22pfci9",
        "colab_type": "text"
      },
      "source": [
        "***append()*** is an other useful method that adds an element to the end of a list."
      ]
    },
    {
      "cell_type": "code",
      "metadata": {
        "id": "XcY1vqKLe1FK",
        "colab_type": "code",
        "colab": {}
      },
      "source": [
        "letters = ['a', 'b', 'c', 'd']\n",
        "letters.append('e')\n",
        "print(letters)"
      ],
      "execution_count": null,
      "outputs": []
    },
    {
      "cell_type": "markdown",
      "metadata": {
        "id": "HFY2Ty8_hUdo",
        "colab_type": "text"
      },
      "source": [
        "<br><br>\n",
        "\n",
        "## **14. Tuples:**\n",
        "\n",
        "A tuple is another useful container. It's a data type for immutable ordered sequences of elements. They are often used to store related pieces of information. Consider this example involving (x, y, z) coordinates:"
      ]
    },
    {
      "cell_type": "code",
      "metadata": {
        "id": "_Q0uioLufvgc",
        "colab_type": "code",
        "colab": {}
      },
      "source": [
        "vector = (4, 5, 9)\n",
        "print(\"x-coordinate:\", vector[0])\n",
        "print(\"y-coordinate:\", vector[1])\n",
        "print(\"z-coordinate:\", vector[2])"
      ],
      "execution_count": null,
      "outputs": []
    },
    {
      "cell_type": "markdown",
      "metadata": {
        "id": "_JtjMmZ2rz1t",
        "colab_type": "text"
      },
      "source": [
        "Tuples are similar to lists in that they store an ordered collection of objects which can be accessed by their indices. Unlike lists, however, tuples are immutable - you can't add and remove items from tuples, or sort them in place.\n",
        "\n",
        "> Tuples can also be used to assign multiple variables in a compact way.\n",
        "\n",
        "> The parentheses are optional when defining tuples, and programmers frequently omit them if parentheses don't clarify the code."
      ]
    },
    {
      "cell_type": "code",
      "metadata": {
        "id": "-a_ISfUIrx65",
        "colab_type": "code",
        "colab": {}
      },
      "source": [
        "location = 108.7774, 92.5556\n",
        "latitude, longtitude = location\n",
        "print(\"The coordinates are {} x {}\".format(latitude, longtitude))"
      ],
      "execution_count": null,
      "outputs": []
    },
    {
      "cell_type": "markdown",
      "metadata": {
        "id": "W5LSu94ItjfD",
        "colab_type": "text"
      },
      "source": [
        "In the second line, two variables are assigned from the content of the tuple location. This is called tuple unpacking. You can use tuple unpacking to assign the information from a tuple into multiple variables without having to access them one by one and make multiple assignment statements.\n",
        "\n",
        "If we won't need to use location directly, we could shorten those two lines of code into a single line that assigns three variables in one go!"
      ]
    },
    {
      "cell_type": "code",
      "metadata": {
        "id": "0d7u9CZ1tgo-",
        "colab_type": "code",
        "colab": {}
      },
      "source": [
        "location = 108.7774, 92.5556\n",
        "\n",
        "print(\"The coordinates are {} x {}\".format(latitude, longtitude))"
      ],
      "execution_count": null,
      "outputs": []
    },
    {
      "cell_type": "markdown",
      "metadata": {
        "id": "_jOE97oTyFTQ",
        "colab_type": "text"
      },
      "source": [
        "##**15. Sets:**\n",
        "A set is a data type for mutable unordered collections of unique elements. One application of a set is to quickly remove duplicates from a list.\n"
      ]
    },
    {
      "cell_type": "code",
      "metadata": {
        "id": "StB2pYuPuaLz",
        "colab_type": "code",
        "colab": {}
      },
      "source": [
        "numbers = [1, 2, 6, 3, 1, 1, 6]\n",
        "unique_nums = set(numbers)\n",
        "print(unique_nums)"
      ],
      "execution_count": null,
      "outputs": []
    },
    {
      "cell_type": "markdown",
      "metadata": {
        "id": "l7hrHkJ0yrxb",
        "colab_type": "text"
      },
      "source": [
        "Sets support the in operator the same as lists do. You can add elements to sets using the add method, and remove elements using the pop method, similar to lists. Although, when you pop an element from a set, a random element is removed. Remember that sets, unlike lists, are unordered so there is no \"last element\"."
      ]
    },
    {
      "cell_type": "code",
      "metadata": {
        "id": "TQIH3VGXynbz",
        "colab_type": "code",
        "colab": {}
      },
      "source": [
        "fruit = {\"apple\", \"banana\", \"orange\", \"grapefruit\"}  # define a set\n",
        "\n",
        "print(\"watermelon\" in fruit)  # check for element\n",
        "\n",
        "fruit.add(\"watermelon\")  # add an element\n",
        "print(fruit)\n",
        "\n",
        "print(fruit.pop())  # remove a random element\n",
        "print(fruit)"
      ],
      "execution_count": null,
      "outputs": []
    },
    {
      "cell_type": "markdown",
      "metadata": {
        "id": "DORS4RJ_0W0Z",
        "colab_type": "text"
      },
      "source": [
        "<br><br>\n",
        "\n",
        "## **16. Dictionaries and Identity Operators:**\n",
        "\n",
        "A dictionary is a mutable data type that stores mappings of unique keys to values. Here's a dictionary that stores elements and their atomic numbers."
      ]
    },
    {
      "cell_type": "code",
      "metadata": {
        "id": "ApfpAVUvzqDe",
        "colab_type": "code",
        "colab": {}
      },
      "source": [
        "elements = {\"hydrogen\": 1, \"helium\": 2, \"carbon\": 6}"
      ],
      "execution_count": null,
      "outputs": []
    },
    {
      "cell_type": "markdown",
      "metadata": {
        "id": "xTlhGP84yajj",
        "colab_type": "text"
      },
      "source": [
        "Dictionaries can have keys of any immutable type, like integers or tuples, not just strings. It's not even necessary for every key to have the same type! We can look up values or insert new values in the dictionary using square brackets that enclose the key."
      ]
    },
    {
      "cell_type": "code",
      "metadata": {
        "id": "pAtBqAtPyZzq",
        "colab_type": "code",
        "colab": {}
      },
      "source": [
        "print(elements[\"helium\"])  # print the value mapped to \"helium\"\n",
        "elements[\"lithium\"] = 3  # insert \"lithium\" with a value of 3 into the dictionary\n"
      ],
      "execution_count": null,
      "outputs": []
    },
    {
      "cell_type": "markdown",
      "metadata": {
        "id": "8ygwwby4y6Ia",
        "colab_type": "text"
      },
      "source": [
        "We can check whether a value is in a dictionary the same way we check whether a value is in a list or set with the in keyword. Dicts have a related method that's also useful, *get()*. *get()* looks up values in a dictionary, but unlike square brackets, get returns **None** (or a default value of your choice) if the key isn't found."
      ]
    },
    {
      "cell_type": "code",
      "metadata": {
        "id": "CyBTsiY6yrRA",
        "colab_type": "code",
        "colab": {}
      },
      "source": [
        "print(\"carbon\" in elements)\n",
        "print(elements.get(\"dilithium\"))"
      ],
      "execution_count": null,
      "outputs": []
    },
    {
      "cell_type": "markdown",
      "metadata": {
        "id": "d84ZmGfRzy7r",
        "colab_type": "text"
      },
      "source": [
        "Carbon is in the dictionary, so ***True*** is printed. Dilithium isn’t in our dictionary so ***None*** is returned by get and then printed. If you expect lookups to sometimes fail, get might be a better tool than normal square bracket lookups because errors can crash your program."
      ]
    },
    {
      "cell_type": "markdown",
      "metadata": {
        "id": "vYKbWMN40Hbj",
        "colab_type": "text"
      },
      "source": [
        "### **16.a. Keyword Operators:**\n",
        "\n",
        "* ***is:***\tevaluates if both sides have the same identity\n",
        "* ***is not***\tevaluates if both sides have different identities\n",
        "\n",
        "You can check if a key returned ***None*** with the ***is*** operator. You can check for the opposite using ***is not.***"
      ]
    },
    {
      "cell_type": "code",
      "metadata": {
        "id": "-3Z4D-Przuu2",
        "colab_type": "code",
        "colab": {}
      },
      "source": [
        "n = elements.get(\"dilithium\")\n",
        "print(n is None)\n",
        "print(n is not None)"
      ],
      "execution_count": null,
      "outputs": []
    },
    {
      "cell_type": "markdown",
      "metadata": {
        "id": "WY58GiSVSQAU",
        "colab_type": "text"
      },
      "source": [
        "### Task:\n",
        "Define a dictionary named population that contains this data:\n",
        "\n",
        "**Keys** ->\t    **Values**\n",
        "\n",
        "New York ->\t\t17.8\n",
        "\n",
        "Spain\t  ->\t   13.3\n",
        "\n",
        "Dhaka\t  ->\t   13.0\n",
        "\n",
        "Mumbai\t  ->\t 12.5"
      ]
    },
    {
      "cell_type": "code",
      "metadata": {
        "id": "PEGkVp3S0pzm",
        "colab_type": "code",
        "colab": {}
      },
      "source": [
        "population = {\"New York\":17.8, \"Spain\":13.3, \"Dhaka\":13.0, \"Mumbai\":12.5}\n",
        "print(population)"
      ],
      "execution_count": null,
      "outputs": []
    },
    {
      "cell_type": "markdown",
      "metadata": {
        "id": "esVtoMWGTESQ",
        "colab_type": "text"
      },
      "source": [
        "## 16.b. ***Get()* with a Default Value:**\n",
        "\n",
        "Dictionaries have a related method that's also useful, *get()*. *get()* looks up values in a dictionary, but unlike looking up values with square brackets, *get()* returns **None** (or a default value of your choice) if the key isn't found. If you expect lookups to sometimes fail, *get()* might be a better tool than normal square bracket lookups."
      ]
    },
    {
      "cell_type": "code",
      "metadata": {
        "id": "lpgpXnvLS_BO",
        "colab_type": "code",
        "colab": {}
      },
      "source": [
        "print(population.get('London'))"
      ],
      "execution_count": null,
      "outputs": []
    },
    {
      "cell_type": "code",
      "metadata": {
        "id": "lwUfwma8TvA9",
        "colab_type": "code",
        "colab": {}
      },
      "source": [
        "population['London']"
      ],
      "execution_count": null,
      "outputs": []
    },
    {
      "cell_type": "code",
      "metadata": {
        "id": "l50bnIi5T1Wl",
        "colab_type": "code",
        "colab": {}
      },
      "source": [
        "population.get('London', 'There\\'s no such place!')"
      ],
      "execution_count": null,
      "outputs": []
    },
    {
      "cell_type": "markdown",
      "metadata": {
        "id": "6mBdBxyQULNO",
        "colab_type": "text"
      },
      "source": [
        "> *In the last example we specified a default value (the string 'There's no such element!') to be returned instead of None when the key is not found.*\n",
        "\n"
      ]
    },
    {
      "cell_type": "markdown",
      "metadata": {
        "id": "Yl7JfrMAn3kJ",
        "colab_type": "text"
      },
      "source": [
        "## **16.c. Compound Data Structures:**\n",
        "\n",
        "Previously we have seen a dictonary called *elements* in which the element names are maped to their atomic numbers which are integers. But what if we want to store more information about each element like their atomic weight and symbol. We can do that by adjusting this dictionary so that it maps the element names to an other dictionary, that stores that collection of data. \n"
      ]
    },
    {
      "cell_type": "code",
      "metadata": {
        "id": "UUfWjEUIUIKS",
        "colab_type": "code",
        "colab": {}
      },
      "source": [
        "elements = {\"hydrogen\": {\"number\": 1,\n",
        "                         \"weight\": 1.00794,\n",
        "                         \"symbol\": \"H\"},\n",
        "              \"helium\": {\"number\": 2,\n",
        "                         \"weight\": 4.002602,\n",
        "                         \"symbol\": \"He\"}}"
      ],
      "execution_count": null,
      "outputs": []
    },
    {
      "cell_type": "markdown",
      "metadata": {
        "id": "pHEaNsQMplHp",
        "colab_type": "text"
      },
      "source": [
        "\n",
        "We can look up information about an element using this nested dictionary, using square brackets or the *get()* method."
      ]
    },
    {
      "cell_type": "code",
      "metadata": {
        "id": "N3Icsgotpv_P",
        "colab_type": "code",
        "colab": {}
      },
      "source": [
        "helium = elements[\"helium\"]  # get the helium dictionary\n",
        "hydrogen_weight = elements[\"hydrogen\"][\"weight\"]  # get hydrogen's weight\n",
        "\n",
        "print(helium)\n",
        "print(hydrogen_weight)"
      ],
      "execution_count": null,
      "outputs": []
    },
    {
      "cell_type": "markdown",
      "metadata": {
        "id": "L8id3asCp8Q5",
        "colab_type": "text"
      },
      "source": [
        "> You can also add a new key to the element dictionary."
      ]
    },
    {
      "cell_type": "code",
      "metadata": {
        "id": "krGwpkyqpyM7",
        "colab_type": "code",
        "colab": {}
      },
      "source": [
        "oxygen = {\"number\":8,\"weight\":15.999,\"symbol\":\"O\"}  # create a new oxygen dictionary \n",
        "elements[\"oxygen\"] = oxygen  # assign 'oxygen' as a key to the elements dictionary\n",
        "\n",
        "print('elements = ', elements)"
      ],
      "execution_count": null,
      "outputs": []
    },
    {
      "cell_type": "markdown",
      "metadata": {
        "id": "GBpaX13TrJ0s",
        "colab_type": "text"
      },
      "source": [
        "### **Question:**\n",
        "\n",
        "Try your hand at working with nested dictionaries. Add another entry, *'is_noble_gas,'* to each dictionary in the *elements* dictionary. After inserting the new entries you should be able to perform these lookups:\n",
        "\n",
        "\n",
        "\n",
        "---\n",
        "\n",
        "> print(elements['hydrogen']['is_noble_gas'])<br>\n",
        "False\n",
        "\n",
        "> print(elements['helium']['is_noble_gas'])<br>\n",
        "True"
      ]
    },
    {
      "cell_type": "code",
      "metadata": {
        "id": "V8Ynb9OpqGCY",
        "colab_type": "code",
        "colab": {}
      },
      "source": [
        "elements = {'hydrogen': {'number': 1, 'weight': 1.00794, 'symbol': 'H'},\n",
        "            'helium': {'number': 2, 'weight': 4.002602, 'symbol': 'He'}}\n",
        "\n",
        "# todo: Add an 'is_noble_gas' entry to the hydrogen and helium dictionaries\n",
        "# hint: helium is a noble gas, hydrogen isn't\n",
        "elements['helium']['is_noble_gas'] = True\n",
        "elements['hydrogen']['is_noble_gas'] = False"
      ],
      "execution_count": null,
      "outputs": []
    },
    {
      "cell_type": "code",
      "metadata": {
        "id": "ZJmnZKwJr3Nw",
        "colab_type": "code",
        "colab": {}
      },
      "source": [
        "elements"
      ],
      "execution_count": null,
      "outputs": []
    },
    {
      "cell_type": "code",
      "metadata": {
        "id": "42016zIdsXQL",
        "colab_type": "code",
        "colab": {}
      },
      "source": [
        ""
      ],
      "execution_count": null,
      "outputs": []
    }
  ]
}
