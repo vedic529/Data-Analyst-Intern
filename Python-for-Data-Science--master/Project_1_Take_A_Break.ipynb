{
  "nbformat": 4,
  "nbformat_minor": 0,
  "metadata": {
    "colab": {
      "name": "Project_1_Take_A_Break.ipynb",
      "provenance": []
    },
    "kernelspec": {
      "name": "python3",
      "display_name": "Python 3"
    }
  },
  "cells": [
    {
      "cell_type": "markdown",
      "metadata": {
        "id": "8QV9omtuXqTZ"
      },
      "source": [
        "# **Project in Python - Take A Break**\n",
        "###[Should be done on jupyter notebook locally download Anaconda and Jupyter Notebooks]\n",
        "Do you know a friend of yours who studies, codes and researches for hrs. on hand, Maybe that person could be you. This can cause fatigue eye disorders and many more problems. only if we could walk away from the computer for a little bit. \n",
        "\n",
        "Lets make a program that schedules breaks throughout the day to remind the user to take a break from time to time.\n",
        "\n",
        "**OUTPUT**:\n",
        "- after every 2 hrs the program should open the browser to play your favorite song. "
      ]
    },
    {
      "cell_type": "markdown",
      "metadata": {
        "id": "76vLUG3WY8HE"
      },
      "source": [
        "## **If you were to make this program what steps will you take to write this program pls write in the live CHAT?** \n",
        "[ don't worry about the code, in plane english just identify the steps that you will take to make this work eg - step1 do this , step2 do that ]"
      ]
    },
    {
      "cell_type": "code",
      "metadata": {
        "id": "TYnZL7hnXi7C"
      },
      "source": [
        ""
      ],
      "execution_count": null,
      "outputs": []
    },
    {
      "cell_type": "markdown",
      "metadata": {
        "id": "xLGRPiKGZqDv"
      },
      "source": [
        "# **One possible ANSWER**\n"
      ]
    },
    {
      "cell_type": "markdown",
      "metadata": {
        "id": "fzunDAHbajWi"
      },
      "source": [
        "\n",
        "- As we want to keep the break at 2 hrs so the program will need to keep track of time and do nothing during that time \n",
        "\n",
        "- Secondly open up a browser to play the music\n",
        "\n",
        "- As we want to do this multiple times a day so we wil put the above 2 steps in a loop."
      ]
    },
    {
      "cell_type": "markdown",
      "metadata": {
        "id": "EH3jhUqAbOzX"
      },
      "source": [
        "# **Code**"
      ]
    },
    {
      "cell_type": "markdown",
      "metadata": {
        "id": "1MSD2CK2bY0-"
      },
      "source": [
        "Lets start with writing the code for this project. First lets try to figure out how to open up the browser using python. Lets search on the google for the same. you will find stack overflow to be your best friend for the same: https://stackoverflow.com/questions/31715119/how-can-i-open-a-website-in-my-web-browser-using-python"
      ]
    },
    {
      "cell_type": "code",
      "metadata": {
        "colab": {
          "base_uri": "https://localhost:8080/"
        },
        "id": "LqYLryZdbS0J",
        "outputId": "a332977d-3e6c-4377-acb5-079ab7fd4344"
      },
      "source": [
        "import webbrowser\n",
        "webbrowser.open('http://google.co.kr', new=2)"
      ],
      "execution_count": null,
      "outputs": [
        {
          "output_type": "execute_result",
          "data": {
            "text/plain": [
              "False"
            ]
          },
          "metadata": {
            "tags": []
          },
          "execution_count": 1
        }
      ]
    },
    {
      "cell_type": "markdown",
      "metadata": {
        "id": "OLaq8BWPcWky"
      },
      "source": [
        "Next we will try to make our program wait for a certian period of time. Lets search for the same on google. https://stackoverflow.com/questions/15472707/make-python-program-wait"
      ]
    },
    {
      "cell_type": "code",
      "metadata": {
        "id": "lGbHZPc0b37O"
      },
      "source": [
        "import time\n",
        "import webbrowser\n",
        "\n",
        "time.sleep(10)\n",
        "webbrowser.open('http://google.co.kr', new=2)"
      ],
      "execution_count": null,
      "outputs": []
    },
    {
      "cell_type": "markdown",
      "metadata": {
        "id": "uBZDtmFkc4Aa"
      },
      "source": [
        "The Next thing that we have to do is to have a loop so that the user takes a break after every 2hrs(here we have taken 10 seconds so as to understand this)."
      ]
    },
    {
      "cell_type": "code",
      "metadata": {
        "id": "z4Tr35CydDDA"
      },
      "source": [
        "import time\n",
        "import webbrowser\n",
        "\n",
        "breaks = 3\n",
        "\n",
        "for i in range(breaks):\n",
        "  time.sleep(10)\n",
        "  webbrowser.open('http://google.co.kr', new=2)"
      ],
      "execution_count": null,
      "outputs": []
    },
    {
      "cell_type": "markdown",
      "metadata": {
        "id": "ajg2x6Mqdbwv"
      },
      "source": [
        "Lets now make this into a final code for 2 hrs, as time.sleep takes in the argument in seconds so as to take in hrs we will have to multiply it by 60*60 "
      ]
    },
    {
      "cell_type": "code",
      "metadata": {
        "id": "stZwIobLdwOv"
      },
      "source": [
        "import time\n",
        "import webbrowser\n",
        "\n",
        "breaks = 3\n",
        "\n",
        "for i in range(breaks):\n",
        "  time.sleep(2*60*60)\n",
        "  webbrowser.open('http://google.co.kr', new=2)"
      ],
      "execution_count": null,
      "outputs": []
    }
  ]
}
