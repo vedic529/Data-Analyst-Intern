{
  "nbformat": 4,
  "nbformat_minor": 0,
  "metadata": {
    "colab": {
      "name": "Day_4_Scripting.ipynb",
      "provenance": []
    },
    "kernelspec": {
      "name": "python3",
      "display_name": "Python 3"
    }
  },
  "cells": [
    {
      "cell_type": "code",
      "metadata": {
        "id": "xJrlAHdaSthb",
        "colab_type": "code",
        "colab": {}
      },
      "source": [
        "!pip install colabcode"
      ],
      "execution_count": null,
      "outputs": []
    },
    {
      "cell_type": "markdown",
      "metadata": {
        "id": "678VbTmQ2mWR",
        "colab_type": "text"
      },
      "source": [
        "git:\n",
        "\n",
        "https://github.com/ShapeAI/Python-for-Data-Science-/tree/master/Day_4_Scripting"
      ]
    },
    {
      "cell_type": "code",
      "metadata": {
        "id": "mvcJ_CoxS11x",
        "colab_type": "code",
        "colab": {}
      },
      "source": [
        "from colabcode import ColabCode\n",
        "ColabCode(port=10000)"
      ],
      "execution_count": null,
      "outputs": []
    },
    {
      "cell_type": "markdown",
      "metadata": {
        "id": "dRUKz_HGlZHS",
        "colab_type": "text"
      },
      "source": [
        "## **Question(After 4th Script):**\n",
        "Imagine you're a teacher who needs to send a message to each of your students reminding them of their missing assignments and grade in the class. You have each of their names, number of missing assignments, and grades on a spreadsheet and just have to insert them into placeholders in this message you came up with:\n",
        "<br><br>\n",
        "Hi **[insert student name]**,\n",
        "<br><br>\n",
        "This is a reminder that you have **[insert number of missing assignments]** assignments left to submit before you can graduate. Your current grade is **[insert current grade]** and can increase to **[insert potential grade]** if you submit all assignments before the due date.\n",
        "\n",
        "You can just copy and paste this message to each student and manually insert the appropriate values each time, but instead you're going to write a program that does this for you.\n",
        "\n",
        "Write a script that does the following:\n",
        "\n",
        "1. Ask for user input 3 times. Once for a list of names, once for a list of missing assignment counts, and once for a list of grades. Use this input to create lists for ```names```, ```assignments```, and ```grades```.\n",
        "2. Use a loop to print the message for each student with the correct values. The potential grade is simply the current grade added to two times the number of missing assignments.\n",
        "\n",
        "## Template code for your script:\n",
        "\n",
        "```\n",
        "names =  # get and process input for a list of names\n",
        "assignments =  # get and process input for a list of the number of assignments\n",
        "grades =  # get and process input for a list of grades\n",
        "\n",
        "# message string to be used for each student\n",
        "# HINT: use .format() with this string in your for loop\n",
        "message = \"Hi {},\\n\\nThis is a reminder that you have {} assignments left to \\\n",
        "submit before you can graduate. You're current grade is {} and can increase \\\n",
        "to {} if you submit all assignments before the due date.\\n\\n\"\n",
        "\n",
        "# write a for loop that iterates through each set of names, assignments, and grades to print each student's message\n",
        "```"
      ]
    },
    {
      "cell_type": "markdown",
      "metadata": {
        "id": "7Wefk0NJmiv_",
        "colab_type": "text"
      },
      "source": [
        "## **Error And Exceptions:**\n",
        "\n",
        "- **Syntax errors** occur when Python can’t interpret our code, since we didn’t follow the correct syntax for Python. These are errors you’re likely to get when you make a typo, or you’re first starting to learn Python."
      ]
    },
    {
      "cell_type": "markdown",
      "metadata": {
        "id": "ZJ_Or2Ivmr2m",
        "colab_type": "text"
      },
      "source": [
        "- **Exceptions** occur when unexpected things happen during execution of a program, even if the code is syntactically correct. There are different types of built-in exceptions in Python, and you can see which exception is thrown in the error message."
      ]
    },
    {
      "cell_type": "markdown",
      "metadata": {
        "id": "1T-wuQfoq_FI",
        "colab_type": "text"
      },
      "source": [
        "## **Error Handling:**\n",
        "We can use try statements to handle exceptions. There are four clauses you can use (one more in addition to those shown in the video).\n",
        "\n",
        "1. **try:** This is the only mandatory clause in a try statement. The code in this block is the first thing that Python runs in a try statement.\n",
        "2. **except:** If Python runs into an exception while running the try block, it will jump to the except block that handles that exception.\n",
        "3. **else:** If Python runs into no exceptions while running the try block, it will run the code in this block after running the try block.\n",
        "4. **finally:** Before Python leaves this try statement, it will run the code in this finally block under any conditions, even if it's ending the program. E.g., if Python ran into an error while running code in the except or else block, this finally block will still be executed before stopping the program."
      ]
    },
    {
      "cell_type": "markdown",
      "metadata": {
        "id": "wrqQJ2tmv8GG",
        "colab_type": "text"
      },
      "source": [
        "## **Question:**\n",
        "You're going to create a list of the actors who appeared in the television programme Monty Python's Flying Circus.\n",
        "\n",
        "Write a function called create_cast_list that takes a filename as input and returns a list of actors' names.\n",
        "It will be run on the file flying_circus_cast.txt (this information was collected from imdb.com). Each line of that file consists of an actor's name, a comma, and then some (messy) information about roles they played in the programme. You'll need to extract only the name and add it to a list. You might use the .split() method to process each line."
      ]
    },
    {
      "cell_type": "markdown",
      "metadata": {
        "id": "bxGXNRqJxnT0",
        "colab_type": "text"
      },
      "source": [
        "## Paste the section below in a text file named \"flying_circus_cast.txt\":"
      ]
    },
    {
      "cell_type": "code",
      "metadata": {
        "id": "B5nJ1z0RmuvW",
        "colab_type": "code",
        "colab": {}
      },
      "source": [
        "Graham Chapman,  Various / ... (46 episodes, 1969-1974)\n",
        "Eric Idle,  Various / ... (46 episodes, 1969-1974)\n",
        "Terry Jones,  Various / ... (46 episodes, 1969-1974)\n",
        "Michael Palin,  It's Man / ... (46 episodes, 1969-1974)\n",
        "Terry Gilliam,  Various / ... (46 episodes, 1969-1974)\n",
        "John Cleese,  Announcer / ... (40 episodes, 1969-1973)\n",
        "Carol Cleveland,  Various / ... (34 episodes, 1969-1974)\n",
        "Ian Davidson,  Algy Braithwaite / ... (8 episodes, 1969-1970)\n",
        "John Hughman,  Alfred Lord Tennyson / ... (8 episodes, 1970-1974)\n",
        "The Fred Tomlinson Singers,  Amantillado Chorus / ... (7 episodes, 1969-1973)\n",
        "Connie Booth,  Animated Mother / ... (6 episodes, 1969-1974)\n",
        "Bob Raymond,  'Dad' / ... (5 episodes, 1974)\n",
        "Lyn Ashley,  Algon Girl / ... (5 episodes, 1970-1972)\n",
        "Rita Davies,  Argument Secretary / ... (4 episodes, 1969-1972)\n",
        "Stanley Mason,  Clapper Man / ... (4 episodes, 1970-1971)\n",
        "David Ballantyne,  Ivan the Terrible / ... (3 episodes, 1970-1971)\n",
        "Donna Reading,  Girl in Bikini with Its Man / ... (3 episodes, 1969)\n",
        "Peter Brett,  Door-to-Door Martial Arts Salesman (2 episodes, 1974)\n",
        "Maureen Flanagan,  Anona Winn / ... (2 episodes, 1969-1970)\n",
        "Katya Wyeth,  Elsie / ... (2 episodes, 1969)\n",
        "Frank Lester,  The Late Professor Thynne (2 episodes, 1972-1974)\n",
        "Neil Innes,  Hesitant guitarist / ... (2 episodes, 1974)\n",
        "Dick Vosburgh,  Van der Berg (1 episode, 1969)\n",
        "Sandra Richards,  'Semprini' Girl / ... (1 episode, 1970)\n",
        "Julia Breck,  Puss In Boots / ... (1 episode, 1972)\n",
        "Nicki Howorth,  Miss Bladder (1 episode, 1972)\n",
        "Jimmy Hill,  Himself (1 episode, 1974)\n",
        "Barry Cryer,  Herman Rodrigues (1 episode, 1969)\n",
        "Jeannette Wild,  Second Secretary (1 episode, 1970)\n",
        "Marjorie Wilde,  Dear Old Lady (1 episode, 1970)\n",
        "Marie Anderson,  Girl interviewing the announcer (1 episode, 1972)\n",
        "Caron Gardner,  Mary (1 episode, 1973)\n",
        "Nosher Powell,  Jack Bodell (1 episode, 1973)\n",
        "Carolae Donoghue,  Vera's Husband's Mistress (1 episode, 1969)\n",
        "Vincent Wong,  Mr. Kamikaze (1 episode, 1970)\n",
        "Helena Clayton,  Various Roles (1 episode, 1971)\n",
        "Nigel Jones,  Various (1 episode, 1972)\n",
        "Roy Gunson, (1 episode, 1970)\n",
        "Daphne Davey,  Various Roles (1 episode, 1971)\n",
        "Stenson Falke, (1 episode, 1974)\n",
        "Alexander Curry,  Various (1 episode, 1970)\n",
        "Frank Williams,  Clerk of the Court (1 episode, 1972)\n",
        "Ralph Wood, (1 episode, 1970)\n",
        "Rosalind Bailey,  Elizabethan Girl (1 episode, 1972)\n",
        "Marion Mould, (1 episode, 1974)\n",
        "Sheila Sands,  Stripper / ... (uncredited) (2 episodes, 1969)\n",
        "Richard Baker,  Himself - BBC News Anchor (uncredited) (3 episodes, 1972-1973)\n",
        "Douglas Adams,  Dr. Emile Koning - Surgeon / ... (uncredited) (2 episodes, 1974)\n",
        "Ewa Aulin,  Harrassed Woman (uncredited) (1 episode, 1969)\n",
        "Reginald Bosanquet,  Himself (uncredited) (1 episode, 1970)\n",
        "Barbara Lindley,  Bride (uncredited) (1 episode, 1970)\n",
        "Roy Brent,  Armoured Knight (uncredited) (1 episode, 1972)\n",
        "Jonas Card,  Armoured Knight (uncredited) (1 episode, 1972)\n",
        "Tony Christopher,  Armoured Knight (uncredited) (1 episode, 1972)\n",
        "Beulah Hughes, (uncredited) (1 episode, 1972)\n",
        "Peter Kodak,  Armoured Knight (uncredited) (1 episode, 1972)\n",
        "Lulu,  Herself (uncredited) (1 episode, 1972)\n",
        "Jay Neill,  Armoured Knight (uncredited) (1 episode, 1972)\n",
        "Graham Skidmore,  Armoured Knight (uncredited) (1 episode, 1972)\n",
        "Ringo Starr,  Himself (uncredited) (1 episode, 1972)\n",
        "Fred Tomlinson,  Superintendent McGough (uncredited) (1 episode, 1972)\n",
        "David Hamilton,  Himself - Thames TV Announcer (uncredited) (1 episode, 1973)\n",
        "Suzy Mandel,  German Girl (uncredited) (1 episode, 1974)\n",
        "Peter Woods,  BBC Presenter (uncredited) (1 episode, 1974)"
      ],
      "execution_count": null,
      "outputs": []
    },
    {
      "cell_type": "code",
      "metadata": {
        "id": "1IQy_iMxxw_w",
        "colab_type": "code",
        "colab": {}
      },
      "source": [
        "def create_cast_list(filename):\n",
        "    cast_list = []\n",
        "    #use with to open the file filename\n",
        "    #use the for loop syntax to process each line\n",
        "    #and add the actor name to cast_list\n",
        "\n",
        "    return cast_list\n",
        "\n",
        "cast_list = create_cast_list('flying_circus_cast.txt')\n",
        "for actor in cast_list:\n",
        "    print(actor)"
      ],
      "execution_count": null,
      "outputs": []
    }
  ]
}
